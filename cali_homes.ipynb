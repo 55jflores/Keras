{
  "nbformat": 4,
  "nbformat_minor": 0,
  "metadata": {
    "colab": {
      "name": "cali_houses.ipynb",
      "provenance": [],
      "collapsed_sections": []
    },
    "kernelspec": {
      "name": "python3",
      "display_name": "Python 3"
    }
  },
  "cells": [
    {
      "cell_type": "code",
      "metadata": {
        "id": "3a4NafFMymTM"
      },
      "source": [
        "import pandas as pd"
      ],
      "execution_count": null,
      "outputs": []
    },
    {
      "cell_type": "code",
      "metadata": {
        "id": "nxcd68ZByp5l",
        "colab": {
          "base_uri": "https://localhost:8080/"
        },
        "outputId": "2e6400da-7245-4698-d1c5-6b7a2375106e"
      },
      "source": [
        "from google.colab import drive\n",
        "\n",
        "drive.mount('/content/drive')"
      ],
      "execution_count": null,
      "outputs": [
        {
          "output_type": "stream",
          "text": [
            "Drive already mounted at /content/drive; to attempt to forcibly remount, call drive.mount(\"/content/drive\", force_remount=True).\n"
          ],
          "name": "stdout"
        }
      ]
    },
    {
      "cell_type": "code",
      "metadata": {
        "id": "FB56W2GyywEb"
      },
      "source": [
        "# Features + Housing prices for homes in california\n",
        "cali = pd.read_csv('/content/drive/My Drive/DATA/california_housing_sklearn.csv')"
      ],
      "execution_count": null,
      "outputs": []
    },
    {
      "cell_type": "code",
      "metadata": {
        "colab": {
          "base_uri": "https://localhost:8080/",
          "height": 204
        },
        "id": "mNKTjARAzEQ6",
        "outputId": "267223f7-6c63-4c36-a30e-cd5960b4be3e"
      },
      "source": [
        "cali.head()"
      ],
      "execution_count": null,
      "outputs": [
        {
          "output_type": "execute_result",
          "data": {
            "text/html": [
              "<div>\n",
              "<style scoped>\n",
              "    .dataframe tbody tr th:only-of-type {\n",
              "        vertical-align: middle;\n",
              "    }\n",
              "\n",
              "    .dataframe tbody tr th {\n",
              "        vertical-align: top;\n",
              "    }\n",
              "\n",
              "    .dataframe thead th {\n",
              "        text-align: right;\n",
              "    }\n",
              "</style>\n",
              "<table border=\"1\" class=\"dataframe\">\n",
              "  <thead>\n",
              "    <tr style=\"text-align: right;\">\n",
              "      <th></th>\n",
              "      <th>MedInc</th>\n",
              "      <th>HouseAge</th>\n",
              "      <th>AveRooms</th>\n",
              "      <th>AveBedrms</th>\n",
              "      <th>Population</th>\n",
              "      <th>AveOccup</th>\n",
              "      <th>Latitude</th>\n",
              "      <th>Longitude</th>\n",
              "      <th>SalePrice</th>\n",
              "    </tr>\n",
              "  </thead>\n",
              "  <tbody>\n",
              "    <tr>\n",
              "      <th>0</th>\n",
              "      <td>8.3252</td>\n",
              "      <td>41.0</td>\n",
              "      <td>6.984127</td>\n",
              "      <td>1.023810</td>\n",
              "      <td>322.0</td>\n",
              "      <td>2.555556</td>\n",
              "      <td>37.88</td>\n",
              "      <td>-122.23</td>\n",
              "      <td>4.526</td>\n",
              "    </tr>\n",
              "    <tr>\n",
              "      <th>1</th>\n",
              "      <td>8.3014</td>\n",
              "      <td>21.0</td>\n",
              "      <td>6.238137</td>\n",
              "      <td>0.971880</td>\n",
              "      <td>2401.0</td>\n",
              "      <td>2.109842</td>\n",
              "      <td>37.86</td>\n",
              "      <td>-122.22</td>\n",
              "      <td>3.585</td>\n",
              "    </tr>\n",
              "    <tr>\n",
              "      <th>2</th>\n",
              "      <td>7.2574</td>\n",
              "      <td>52.0</td>\n",
              "      <td>8.288136</td>\n",
              "      <td>1.073446</td>\n",
              "      <td>496.0</td>\n",
              "      <td>2.802260</td>\n",
              "      <td>37.85</td>\n",
              "      <td>-122.24</td>\n",
              "      <td>3.521</td>\n",
              "    </tr>\n",
              "    <tr>\n",
              "      <th>3</th>\n",
              "      <td>5.6431</td>\n",
              "      <td>52.0</td>\n",
              "      <td>5.817352</td>\n",
              "      <td>1.073059</td>\n",
              "      <td>558.0</td>\n",
              "      <td>2.547945</td>\n",
              "      <td>37.85</td>\n",
              "      <td>-122.25</td>\n",
              "      <td>3.413</td>\n",
              "    </tr>\n",
              "    <tr>\n",
              "      <th>4</th>\n",
              "      <td>3.8462</td>\n",
              "      <td>52.0</td>\n",
              "      <td>6.281853</td>\n",
              "      <td>1.081081</td>\n",
              "      <td>565.0</td>\n",
              "      <td>2.181467</td>\n",
              "      <td>37.85</td>\n",
              "      <td>-122.25</td>\n",
              "      <td>3.422</td>\n",
              "    </tr>\n",
              "  </tbody>\n",
              "</table>\n",
              "</div>"
            ],
            "text/plain": [
              "   MedInc  HouseAge  AveRooms  ...  Latitude  Longitude  SalePrice\n",
              "0  8.3252      41.0  6.984127  ...     37.88    -122.23      4.526\n",
              "1  8.3014      21.0  6.238137  ...     37.86    -122.22      3.585\n",
              "2  7.2574      52.0  8.288136  ...     37.85    -122.24      3.521\n",
              "3  5.6431      52.0  5.817352  ...     37.85    -122.25      3.413\n",
              "4  3.8462      52.0  6.281853  ...     37.85    -122.25      3.422\n",
              "\n",
              "[5 rows x 9 columns]"
            ]
          },
          "metadata": {
            "tags": []
          },
          "execution_count": 4
        }
      ]
    },
    {
      "cell_type": "code",
      "metadata": {
        "colab": {
          "base_uri": "https://localhost:8080/"
        },
        "id": "ZkGzTmS7zHNh",
        "outputId": "491cab6b-824d-4017-a8a2-2b3f35abf6d6"
      },
      "source": [
        "# In units of 100,000\n",
        "cali['SalePrice']"
      ],
      "execution_count": null,
      "outputs": [
        {
          "output_type": "execute_result",
          "data": {
            "text/plain": [
              "0        4.526\n",
              "1        3.585\n",
              "2        3.521\n",
              "3        3.413\n",
              "4        3.422\n",
              "         ...  \n",
              "20635    0.781\n",
              "20636    0.771\n",
              "20637    0.923\n",
              "20638    0.847\n",
              "20639    0.894\n",
              "Name: SalePrice, Length: 20640, dtype: float64"
            ]
          },
          "metadata": {
            "tags": []
          },
          "execution_count": 5
        }
      ]
    },
    {
      "cell_type": "code",
      "metadata": {
        "colab": {
          "base_uri": "https://localhost:8080/"
        },
        "id": "ryUruX7_zKwR",
        "outputId": "f5dc12f0-e5ad-43d2-a49d-e63bb686577e"
      },
      "source": [
        "# Check for null values\n",
        "cali.isnull().sum()"
      ],
      "execution_count": null,
      "outputs": [
        {
          "output_type": "execute_result",
          "data": {
            "text/plain": [
              "MedInc        0\n",
              "HouseAge      0\n",
              "AveRooms      0\n",
              "AveBedrms     0\n",
              "Population    0\n",
              "AveOccup      0\n",
              "Latitude      0\n",
              "Longitude     0\n",
              "SalePrice     0\n",
              "dtype: int64"
            ]
          },
          "metadata": {
            "tags": []
          },
          "execution_count": 6
        }
      ]
    },
    {
      "cell_type": "code",
      "metadata": {
        "id": "dDpT2RjQ1AnP"
      },
      "source": [
        "import seaborn as sns\n",
        "import matplotlib.pyplot as plt"
      ],
      "execution_count": null,
      "outputs": []
    },
    {
      "cell_type": "code",
      "metadata": {
        "colab": {
          "base_uri": "https://localhost:8080/",
          "height": 659
        },
        "id": "UNJTECH8z7hI",
        "outputId": "4fa62630-69d6-4c5f-ffce-39b9583bb6fa"
      },
      "source": [
        "# Correlation matrix\n",
        "corr = cali.corr()\n",
        "plt.figure(figsize=(10,10))\n",
        "sns.heatmap(corr,annot=True)"
      ],
      "execution_count": null,
      "outputs": [
        {
          "output_type": "execute_result",
          "data": {
            "text/plain": [
              "<matplotlib.axes._subplots.AxesSubplot at 0x7f21a9acaf90>"
            ]
          },
          "metadata": {
            "tags": []
          },
          "execution_count": 8
        },
        {
          "output_type": "display_data",
          "data": {
            "image/png": "[encoded data removed]",
            "text/plain": [
              "<Figure size 720x720 with 2 Axes>"
            ]
          },
          "metadata": {
            "tags": [],
            "needs_background": "light"
          }
        }
      ]
    },
    {
      "cell_type": "code",
      "metadata": {
        "id": "C9RogYp01E4O"
      },
      "source": [
        "# Getting data ready for splitting and scaling\n",
        "X = cali.drop('SalePrice',axis=1)\n",
        "y = cali['SalePrice']"
      ],
      "execution_count": null,
      "outputs": []
    },
    {
      "cell_type": "code",
      "metadata": {
        "id": "9AmdCuC71vz0"
      },
      "source": [
        "from sklearn.model_selection import train_test_split"
      ],
      "execution_count": null,
      "outputs": []
    },
    {
      "cell_type": "code",
      "metadata": {
        "id": "FIS50mgJ12_U"
      },
      "source": [
        "X_train, X_test, y_train, y_test = train_test_split(X, y, test_size=0.3, random_state=101)"
      ],
      "execution_count": null,
      "outputs": []
    },
    {
      "cell_type": "code",
      "metadata": {
        "id": "BDlRRV1q15gb"
      },
      "source": [
        "from sklearn.preprocessing import MinMaxScaler"
      ],
      "execution_count": null,
      "outputs": []
    },
    {
      "cell_type": "code",
      "metadata": {
        "id": "gldoAg1V1-f1"
      },
      "source": [
        "scaler = MinMaxScaler()"
      ],
      "execution_count": null,
      "outputs": []
    },
    {
      "cell_type": "code",
      "metadata": {
        "id": "Ex3ig7XL17gb"
      },
      "source": [
        "# Transforming and fitting in one line:\n",
        "X_train = scaler.fit_transform(X_train)"
      ],
      "execution_count": null,
      "outputs": []
    },
    {
      "cell_type": "code",
      "metadata": {
        "id": "-7lmHlRe19Sc"
      },
      "source": [
        "# Transform but don't fit on test set\n",
        "X_test = scaler.transform(X_test)"
      ],
      "execution_count": null,
      "outputs": []
    },
    {
      "cell_type": "code",
      "metadata": {
        "colab": {
          "base_uri": "https://localhost:8080/"
        },
        "id": "0eWKuiyI2O3r",
        "outputId": "d9da98d2-56a4-422f-b7cd-b314cc33c2ab"
      },
      "source": [
        "X_test.shape[1]"
      ],
      "execution_count": null,
      "outputs": [
        {
          "output_type": "execute_result",
          "data": {
            "text/plain": [
              "8"
            ]
          },
          "metadata": {
            "tags": []
          },
          "execution_count": 16
        }
      ]
    },
    {
      "cell_type": "code",
      "metadata": {
        "id": "GXhR3vIN2B-E"
      },
      "source": [
        "from tensorflow.keras.models import Sequential\n",
        "from tensorflow.keras.layers import Dense,Dropout"
      ],
      "execution_count": null,
      "outputs": []
    },
    {
      "cell_type": "code",
      "metadata": {
        "id": "OYr0-psJ2DXj"
      },
      "source": [
        "# Creating a sequential model\n",
        "model = Sequential()\n",
        "\n",
        "# Base # of neurons from size of feature data (# of features)\n",
        "\n",
        "model.add(Dense(X_train.shape[1],activation='relu'))\n",
        "model.add(Dense(X_train.shape[1],activation='relu'))\n",
        "model.add(Dense(X_train.shape[1],activation='relu'))\n",
        "\n",
        "# Final layer: Outputs predicted price\n",
        "model.add(Dense(1))\n",
        "\n",
        "model.compile(optimizer='adam',loss='mse')"
      ],
      "execution_count": null,
      "outputs": []
    },
    {
      "cell_type": "code",
      "metadata": {
        "colab": {
          "base_uri": "https://localhost:8080/"
        },
        "id": "E0NAdpPp2OMt",
        "outputId": "a0ea3614-9fa1-4ea3-d41a-d9f99fb2cb85"
      },
      "source": [
        "model.fit(x=X_train,y=y_train,validation_data=(X_test,y_test),epochs=400)"
      ],
      "execution_count": null,
      "outputs": [
        {
          "output_type": "stream",
          "text": [
            "Epoch 1/400\n",
            "452/452 [==============================] - 2s 2ms/step - loss: 3.3472 - val_loss: 0.8478\n",
            "Epoch 2/400\n",
            "452/452 [==============================] - 1s 2ms/step - loss: 0.7062 - val_loss: 0.6028\n",
            "Epoch 3/400\n",
            "452/452 [==============================] - 1s 1ms/step - loss: 0.5384 - val_loss: 0.5722\n",
            "Epoch 4/400\n",
            "452/452 [==============================] - 1s 1ms/step - loss: 0.5366 - val_loss: 0.5547\n",
            "Epoch 5/400\n",
            "452/452 [==============================] - 1s 1ms/step - loss: 0.5192 - val_loss: 0.5384\n",
            "Epoch 6/400\n",
            "452/452 [==============================] - 1s 1ms/step - loss: 0.4881 - val_loss: 0.5366\n",
            "Epoch 7/400\n",
            "452/452 [==============================] - 1s 1ms/step - loss: 0.5124 - val_loss: 0.5144\n",
            "Epoch 8/400\n",
            "452/452 [==============================] - 1s 2ms/step - loss: 0.4768 - val_loss: 0.5046\n",
            "Epoch 9/400\n",
            "452/452 [==============================] - 1s 2ms/step - loss: 0.4809 - val_loss: 0.4977\n",
            "Epoch 10/400\n",
            "452/452 [==============================] - 1s 1ms/step - loss: 0.4556 - val_loss: 0.4877\n",
            "Epoch 11/400\n",
            "452/452 [==============================] - 1s 2ms/step - loss: 0.4625 - val_loss: 0.4774\n",
            "Epoch 12/400\n",
            "452/452 [==============================] - 1s 1ms/step - loss: 0.4344 - val_loss: 0.4687\n",
            "Epoch 13/400\n",
            "452/452 [==============================] - 1s 2ms/step - loss: 0.4406 - val_loss: 0.4611\n",
            "Epoch 14/400\n",
            "452/452 [==============================] - 1s 2ms/step - loss: 0.4213 - val_loss: 0.4519\n",
            "Epoch 15/400\n",
            "452/452 [==============================] - 1s 2ms/step - loss: 0.4343 - val_loss: 0.4489\n",
            "Epoch 16/400\n",
            "452/452 [==============================] - 1s 1ms/step - loss: 0.4078 - val_loss: 0.4420\n",
            "Epoch 17/400\n",
            "452/452 [==============================] - 1s 1ms/step - loss: 0.3883 - val_loss: 0.4309\n",
            "Epoch 18/400\n",
            "452/452 [==============================] - 1s 1ms/step - loss: 0.4030 - val_loss: 0.4298\n",
            "Epoch 19/400\n",
            "452/452 [==============================] - 1s 1ms/step - loss: 0.3931 - val_loss: 0.4357\n",
            "Epoch 20/400\n",
            "452/452 [==============================] - 1s 1ms/step - loss: 0.4000 - val_loss: 0.4211\n",
            "Epoch 21/400\n",
            "452/452 [==============================] - 1s 1ms/step - loss: 0.3961 - val_loss: 0.4151\n",
            "Epoch 22/400\n",
            "452/452 [==============================] - 1s 1ms/step - loss: 0.4060 - val_loss: 0.4177\n",
            "Epoch 23/400\n",
            "452/452 [==============================] - 1s 1ms/step - loss: 0.3807 - val_loss: 0.4116\n",
            "Epoch 24/400\n",
            "452/452 [==============================] - 1s 1ms/step - loss: 0.3859 - val_loss: 0.4215\n",
            "Epoch 25/400\n",
            "452/452 [==============================] - 1s 1ms/step - loss: 0.3874 - val_loss: 0.4108\n",
            "Epoch 26/400\n",
            "452/452 [==============================] - 1s 1ms/step - loss: 0.3998 - val_loss: 0.4576\n",
            "Epoch 27/400\n",
            "452/452 [==============================] - 1s 1ms/step - loss: 0.3802 - val_loss: 0.4077\n",
            "Epoch 28/400\n",
            "452/452 [==============================] - 1s 1ms/step - loss: 0.3912 - val_loss: 0.4072\n",
            "Epoch 29/400\n",
            "452/452 [==============================] - 1s 1ms/step - loss: 0.3831 - val_loss: 0.4053\n",
            "Epoch 30/400\n",
            "452/452 [==============================] - 1s 1ms/step - loss: 0.3808 - val_loss: 0.4052\n",
            "Epoch 31/400\n",
            "452/452 [==============================] - 1s 1ms/step - loss: 0.3708 - val_loss: 0.4051\n",
            "Epoch 32/400\n",
            "452/452 [==============================] - 1s 1ms/step - loss: 0.3933 - val_loss: 0.4074\n",
            "Epoch 33/400\n",
            "452/452 [==============================] - 1s 1ms/step - loss: 0.3774 - val_loss: 0.4034\n",
            "Epoch 34/400\n",
            "452/452 [==============================] - 1s 1ms/step - loss: 0.3662 - val_loss: 0.4048\n",
            "Epoch 35/400\n",
            "452/452 [==============================] - 1s 1ms/step - loss: 0.3839 - val_loss: 0.4041\n",
            "Epoch 36/400\n",
            "452/452 [==============================] - 1s 1ms/step - loss: 0.3824 - val_loss: 0.4013\n",
            "Epoch 37/400\n",
            "452/452 [==============================] - 1s 1ms/step - loss: 0.3935 - val_loss: 0.4196\n",
            "Epoch 38/400\n",
            "452/452 [==============================] - 1s 1ms/step - loss: 0.3831 - val_loss: 0.4006\n",
            "Epoch 39/400\n",
            "452/452 [==============================] - 1s 1ms/step - loss: 0.3707 - val_loss: 0.4029\n",
            "Epoch 40/400\n",
            "452/452 [==============================] - 1s 1ms/step - loss: 0.3948 - val_loss: 0.4043\n",
            "Epoch 41/400\n",
            "452/452 [==============================] - 1s 1ms/step - loss: 0.3796 - val_loss: 0.4006\n",
            "Epoch 42/400\n",
            "452/452 [==============================] - 1s 1ms/step - loss: 0.3852 - val_loss: 0.4088\n",
            "Epoch 43/400\n",
            "452/452 [==============================] - 1s 1ms/step - loss: 0.3722 - val_loss: 0.3987\n",
            "Epoch 44/400\n",
            "452/452 [==============================] - 1s 1ms/step - loss: 0.3763 - val_loss: 0.4000\n",
            "Epoch 45/400\n",
            "452/452 [==============================] - 1s 1ms/step - loss: 0.3759 - val_loss: 0.3987\n",
            "Epoch 46/400\n",
            "452/452 [==============================] - 1s 1ms/step - loss: 0.3770 - val_loss: 0.4009\n",
            "Epoch 47/400\n",
            "452/452 [==============================] - 1s 1ms/step - loss: 0.3663 - val_loss: 0.4063\n",
            "Epoch 48/400\n",
            "452/452 [==============================] - 1s 1ms/step - loss: 0.3774 - val_loss: 0.3993\n",
            "Epoch 49/400\n",
            "452/452 [==============================] - 1s 1ms/step - loss: 0.3754 - val_loss: 0.3995\n",
            "Epoch 50/400\n",
            "452/452 [==============================] - 1s 1ms/step - loss: 0.3816 - val_loss: 0.3962\n",
            "Epoch 51/400\n",
            "452/452 [==============================] - 1s 1ms/step - loss: 0.3746 - val_loss: 0.3965\n",
            "Epoch 52/400\n",
            "452/452 [==============================] - 1s 1ms/step - loss: 0.3729 - val_loss: 0.4108\n",
            "Epoch 53/400\n",
            "452/452 [==============================] - 1s 1ms/step - loss: 0.3565 - val_loss: 0.3936\n",
            "Epoch 54/400\n",
            "452/452 [==============================] - 1s 1ms/step - loss: 0.3682 - val_loss: 0.3920\n",
            "Epoch 55/400\n",
            "452/452 [==============================] - 1s 1ms/step - loss: 0.3681 - val_loss: 0.3956\n",
            "Epoch 56/400\n",
            "452/452 [==============================] - 1s 1ms/step - loss: 0.3636 - val_loss: 0.3918\n",
            "Epoch 57/400\n",
            "452/452 [==============================] - 1s 1ms/step - loss: 0.3774 - val_loss: 0.3901\n",
            "Epoch 58/400\n",
            "452/452 [==============================] - 1s 1ms/step - loss: 0.3707 - val_loss: 0.3917\n",
            "Epoch 59/400\n",
            "452/452 [==============================] - 1s 1ms/step - loss: 0.3733 - val_loss: 0.3913\n",
            "Epoch 60/400\n",
            "452/452 [==============================] - 1s 1ms/step - loss: 0.3565 - val_loss: 0.3941\n",
            "Epoch 61/400\n",
            "452/452 [==============================] - 1s 1ms/step - loss: 0.3590 - val_loss: 0.3984\n",
            "Epoch 62/400\n",
            "452/452 [==============================] - 1s 1ms/step - loss: 0.3683 - val_loss: 0.3869\n",
            "Epoch 63/400\n",
            "452/452 [==============================] - 1s 1ms/step - loss: 0.3582 - val_loss: 0.3883\n",
            "Epoch 64/400\n",
            "452/452 [==============================] - 1s 1ms/step - loss: 0.3698 - val_loss: 0.3909\n",
            "Epoch 65/400\n",
            "452/452 [==============================] - 1s 1ms/step - loss: 0.3558 - val_loss: 0.3852\n",
            "Epoch 66/400\n",
            "452/452 [==============================] - 1s 1ms/step - loss: 0.3638 - val_loss: 0.3894\n",
            "Epoch 67/400\n",
            "452/452 [==============================] - 1s 1ms/step - loss: 0.3700 - val_loss: 0.3870\n",
            "Epoch 68/400\n",
            "452/452 [==============================] - 1s 1ms/step - loss: 0.3638 - val_loss: 0.3852\n",
            "Epoch 69/400\n",
            "452/452 [==============================] - 1s 1ms/step - loss: 0.3510 - val_loss: 0.3857\n",
            "Epoch 70/400\n",
            "452/452 [==============================] - 1s 1ms/step - loss: 0.3584 - val_loss: 0.3831\n",
            "Epoch 71/400\n",
            "452/452 [==============================] - 1s 1ms/step - loss: 0.3532 - val_loss: 0.3892\n",
            "Epoch 72/400\n",
            "452/452 [==============================] - 1s 1ms/step - loss: 0.3598 - val_loss: 0.3890\n",
            "Epoch 73/400\n",
            "452/452 [==============================] - 1s 1ms/step - loss: 0.3618 - val_loss: 0.3876\n",
            "Epoch 74/400\n",
            "452/452 [==============================] - 1s 1ms/step - loss: 0.3582 - val_loss: 0.3809\n",
            "Epoch 75/400\n",
            "452/452 [==============================] - 1s 1ms/step - loss: 0.3585 - val_loss: 0.3811\n",
            "Epoch 76/400\n",
            "452/452 [==============================] - 1s 1ms/step - loss: 0.3473 - val_loss: 0.3837\n",
            "Epoch 77/400\n",
            "452/452 [==============================] - 1s 1ms/step - loss: 0.3518 - val_loss: 0.3813\n",
            "Epoch 78/400\n",
            "452/452 [==============================] - 1s 1ms/step - loss: 0.3459 - val_loss: 0.3881\n",
            "Epoch 79/400\n",
            "452/452 [==============================] - 1s 1ms/step - loss: 0.3485 - val_loss: 0.3816\n",
            "Epoch 80/400\n",
            "452/452 [==============================] - 1s 1ms/step - loss: 0.3393 - val_loss: 0.3888\n",
            "Epoch 81/400\n",
            "452/452 [==============================] - 1s 1ms/step - loss: 0.3462 - val_loss: 0.3854\n",
            "Epoch 82/400\n",
            "452/452 [==============================] - 1s 1ms/step - loss: 0.3558 - val_loss: 0.3852\n",
            "Epoch 83/400\n",
            "452/452 [==============================] - 1s 1ms/step - loss: 0.3594 - val_loss: 0.3832\n",
            "Epoch 84/400\n",
            "452/452 [==============================] - 1s 1ms/step - loss: 0.3462 - val_loss: 0.3810\n",
            "Epoch 85/400\n",
            "452/452 [==============================] - 1s 1ms/step - loss: 0.3306 - val_loss: 0.3892\n",
            "Epoch 86/400\n",
            "452/452 [==============================] - 1s 1ms/step - loss: 0.3616 - val_loss: 0.3784\n",
            "Epoch 87/400\n",
            "452/452 [==============================] - 1s 1ms/step - loss: 0.3619 - val_loss: 0.3805\n",
            "Epoch 88/400\n",
            "452/452 [==============================] - 1s 1ms/step - loss: 0.3491 - val_loss: 0.3934\n",
            "Epoch 89/400\n",
            "452/452 [==============================] - 1s 1ms/step - loss: 0.3483 - val_loss: 0.4014\n",
            "Epoch 90/400\n",
            "452/452 [==============================] - 1s 1ms/step - loss: 0.3430 - val_loss: 0.3796\n",
            "Epoch 91/400\n",
            "452/452 [==============================] - 1s 1ms/step - loss: 0.3394 - val_loss: 0.3817\n",
            "Epoch 92/400\n",
            "452/452 [==============================] - 1s 1ms/step - loss: 0.3395 - val_loss: 0.3855\n",
            "Epoch 93/400\n",
            "452/452 [==============================] - 1s 1ms/step - loss: 0.3348 - val_loss: 0.3891\n",
            "Epoch 94/400\n",
            "452/452 [==============================] - 1s 1ms/step - loss: 0.3305 - val_loss: 0.3858\n",
            "Epoch 95/400\n",
            "452/452 [==============================] - 1s 1ms/step - loss: 0.3525 - val_loss: 0.3949\n",
            "Epoch 96/400\n",
            "452/452 [==============================] - 1s 1ms/step - loss: 0.3459 - val_loss: 0.3822\n",
            "Epoch 97/400\n",
            "452/452 [==============================] - 1s 1ms/step - loss: 0.3470 - val_loss: 0.3767\n",
            "Epoch 98/400\n",
            "452/452 [==============================] - 1s 1ms/step - loss: 0.3342 - val_loss: 0.3812\n",
            "Epoch 99/400\n",
            "452/452 [==============================] - 1s 1ms/step - loss: 0.3601 - val_loss: 0.3791\n",
            "Epoch 100/400\n",
            "452/452 [==============================] - 1s 1ms/step - loss: 0.3411 - val_loss: 0.3750\n",
            "Epoch 101/400\n",
            "452/452 [==============================] - 1s 1ms/step - loss: 0.3447 - val_loss: 0.3796\n",
            "Epoch 102/400\n",
            "452/452 [==============================] - 1s 1ms/step - loss: 0.3483 - val_loss: 0.3865\n",
            "Epoch 103/400\n",
            "452/452 [==============================] - 1s 1ms/step - loss: 0.3561 - val_loss: 0.3792\n",
            "Epoch 104/400\n",
            "452/452 [==============================] - 1s 1ms/step - loss: 0.3389 - val_loss: 0.3734\n",
            "Epoch 105/400\n",
            "452/452 [==============================] - 1s 1ms/step - loss: 0.3420 - val_loss: 0.3879\n",
            "Epoch 106/400\n",
            "452/452 [==============================] - 1s 1ms/step - loss: 0.3449 - val_loss: 0.3743\n",
            "Epoch 107/400\n",
            "452/452 [==============================] - 1s 1ms/step - loss: 0.3354 - val_loss: 0.3792\n",
            "Epoch 108/400\n",
            "452/452 [==============================] - 1s 1ms/step - loss: 0.3525 - val_loss: 0.3845\n",
            "Epoch 109/400\n",
            "452/452 [==============================] - 1s 1ms/step - loss: 0.3344 - val_loss: 0.3758\n",
            "Epoch 110/400\n",
            "452/452 [==============================] - 1s 1ms/step - loss: 0.3332 - val_loss: 0.3862\n",
            "Epoch 111/400\n",
            "452/452 [==============================] - 1s 1ms/step - loss: 0.3463 - val_loss: 0.3874\n",
            "Epoch 112/400\n",
            "452/452 [==============================] - 1s 1ms/step - loss: 0.3447 - val_loss: 0.3790\n",
            "Epoch 113/400\n",
            "452/452 [==============================] - 1s 1ms/step - loss: 0.3359 - val_loss: 0.3791\n",
            "Epoch 114/400\n",
            "452/452 [==============================] - 1s 1ms/step - loss: 0.3289 - val_loss: 0.3733\n",
            "Epoch 115/400\n",
            "452/452 [==============================] - 1s 1ms/step - loss: 0.3396 - val_loss: 0.3777\n",
            "Epoch 116/400\n",
            "452/452 [==============================] - 1s 1ms/step - loss: 0.3555 - val_loss: 0.3717\n",
            "Epoch 117/400\n",
            "452/452 [==============================] - 1s 1ms/step - loss: 0.3309 - val_loss: 0.3720\n",
            "Epoch 118/400\n",
            "452/452 [==============================] - 1s 1ms/step - loss: 0.3398 - val_loss: 0.3735\n",
            "Epoch 119/400\n",
            "452/452 [==============================] - 1s 1ms/step - loss: 0.3384 - val_loss: 0.3772\n",
            "Epoch 120/400\n",
            "452/452 [==============================] - 1s 1ms/step - loss: 0.3376 - val_loss: 0.3775\n",
            "Epoch 121/400\n",
            "452/452 [==============================] - 1s 1ms/step - loss: 0.3511 - val_loss: 0.3830\n",
            "Epoch 122/400\n",
            "452/452 [==============================] - 1s 1ms/step - loss: 0.3391 - val_loss: 0.3800\n",
            "Epoch 123/400\n",
            "452/452 [==============================] - 1s 1ms/step - loss: 0.3406 - val_loss: 0.3741\n",
            "Epoch 124/400\n",
            "452/452 [==============================] - 1s 1ms/step - loss: 0.3346 - val_loss: 0.3743\n",
            "Epoch 125/400\n",
            "452/452 [==============================] - 1s 1ms/step - loss: 0.3362 - val_loss: 0.3773\n",
            "Epoch 126/400\n",
            "452/452 [==============================] - 1s 1ms/step - loss: 0.3437 - val_loss: 0.3749\n",
            "Epoch 127/400\n",
            "452/452 [==============================] - 1s 1ms/step - loss: 0.3553 - val_loss: 0.3731\n",
            "Epoch 128/400\n",
            "452/452 [==============================] - 1s 1ms/step - loss: 0.3329 - val_loss: 0.3931\n",
            "Epoch 129/400\n",
            "452/452 [==============================] - 1s 2ms/step - loss: 0.3419 - val_loss: 0.3879\n",
            "Epoch 130/400\n",
            "452/452 [==============================] - 1s 1ms/step - loss: 0.3573 - val_loss: 0.3808\n",
            "Epoch 131/400\n",
            "452/452 [==============================] - 1s 1ms/step - loss: 0.3325 - val_loss: 0.3840\n",
            "Epoch 132/400\n",
            "452/452 [==============================] - 1s 1ms/step - loss: 0.3346 - val_loss: 0.3876\n",
            "Epoch 133/400\n",
            "452/452 [==============================] - 1s 1ms/step - loss: 0.3361 - val_loss: 0.3714\n",
            "Epoch 134/400\n",
            "452/452 [==============================] - 1s 1ms/step - loss: 0.3394 - val_loss: 0.3787\n",
            "Epoch 135/400\n",
            "452/452 [==============================] - 1s 1ms/step - loss: 0.3349 - val_loss: 0.3718\n",
            "Epoch 136/400\n",
            "452/452 [==============================] - 1s 1ms/step - loss: 0.3515 - val_loss: 0.3728\n",
            "Epoch 137/400\n",
            "452/452 [==============================] - 1s 1ms/step - loss: 0.3333 - val_loss: 0.3763\n",
            "Epoch 138/400\n",
            "452/452 [==============================] - 1s 1ms/step - loss: 0.3283 - val_loss: 0.3838\n",
            "Epoch 139/400\n",
            "452/452 [==============================] - 1s 1ms/step - loss: 0.3418 - val_loss: 0.3720\n",
            "Epoch 140/400\n",
            "452/452 [==============================] - 1s 1ms/step - loss: 0.3400 - val_loss: 0.3754\n",
            "Epoch 141/400\n",
            "452/452 [==============================] - 1s 1ms/step - loss: 0.3379 - val_loss: 0.3706\n",
            "Epoch 142/400\n",
            "452/452 [==============================] - 1s 1ms/step - loss: 0.3316 - val_loss: 0.3726\n",
            "Epoch 143/400\n",
            "452/452 [==============================] - 1s 1ms/step - loss: 0.3434 - val_loss: 0.3742\n",
            "Epoch 144/400\n",
            "452/452 [==============================] - 1s 1ms/step - loss: 0.3364 - val_loss: 0.3723\n",
            "Epoch 145/400\n",
            "452/452 [==============================] - 1s 1ms/step - loss: 0.3364 - val_loss: 0.3780\n",
            "Epoch 146/400\n",
            "452/452 [==============================] - 1s 1ms/step - loss: 0.3318 - val_loss: 0.3696\n",
            "Epoch 147/400\n",
            "452/452 [==============================] - 1s 1ms/step - loss: 0.3442 - val_loss: 0.3701\n",
            "Epoch 148/400\n",
            "452/452 [==============================] - 1s 1ms/step - loss: 0.3343 - val_loss: 0.3733\n",
            "Epoch 149/400\n",
            "452/452 [==============================] - 1s 1ms/step - loss: 0.3331 - val_loss: 0.3739\n",
            "Epoch 150/400\n",
            "452/452 [==============================] - 1s 1ms/step - loss: 0.3383 - val_loss: 0.3708\n",
            "Epoch 151/400\n",
            "452/452 [==============================] - 1s 1ms/step - loss: 0.3346 - val_loss: 0.3692\n",
            "Epoch 152/400\n",
            "452/452 [==============================] - 1s 1ms/step - loss: 0.3329 - val_loss: 0.3827\n",
            "Epoch 153/400\n",
            "452/452 [==============================] - 1s 1ms/step - loss: 0.3321 - val_loss: 0.3853\n",
            "Epoch 154/400\n",
            "452/452 [==============================] - 1s 1ms/step - loss: 0.3357 - val_loss: 0.3694\n",
            "Epoch 155/400\n",
            "452/452 [==============================] - 1s 1ms/step - loss: 0.3396 - val_loss: 0.3713\n",
            "Epoch 156/400\n",
            "452/452 [==============================] - 1s 1ms/step - loss: 0.3302 - val_loss: 0.3695\n",
            "Epoch 157/400\n",
            "452/452 [==============================] - 1s 1ms/step - loss: 0.3324 - val_loss: 0.3838\n",
            "Epoch 158/400\n",
            "452/452 [==============================] - 1s 1ms/step - loss: 0.3590 - val_loss: 0.3734\n",
            "Epoch 159/400\n",
            "452/452 [==============================] - 1s 1ms/step - loss: 0.3348 - val_loss: 0.3722\n",
            "Epoch 160/400\n",
            "452/452 [==============================] - 1s 1ms/step - loss: 0.3402 - val_loss: 0.3693\n",
            "Epoch 161/400\n",
            "452/452 [==============================] - 1s 1ms/step - loss: 0.3459 - val_loss: 0.3819\n",
            "Epoch 162/400\n",
            "452/452 [==============================] - 1s 1ms/step - loss: 0.3302 - val_loss: 0.3675\n",
            "Epoch 163/400\n",
            "452/452 [==============================] - 1s 1ms/step - loss: 0.3431 - val_loss: 0.3692\n",
            "Epoch 164/400\n",
            "452/452 [==============================] - 1s 2ms/step - loss: 0.3387 - val_loss: 0.3705\n",
            "Epoch 165/400\n",
            "452/452 [==============================] - 1s 1ms/step - loss: 0.3442 - val_loss: 0.3687\n",
            "Epoch 166/400\n",
            "452/452 [==============================] - 1s 1ms/step - loss: 0.3273 - val_loss: 0.3735\n",
            "Epoch 167/400\n",
            "452/452 [==============================] - 1s 1ms/step - loss: 0.3398 - val_loss: 0.3809\n",
            "Epoch 168/400\n",
            "452/452 [==============================] - 1s 1ms/step - loss: 0.3422 - val_loss: 0.3758\n",
            "Epoch 169/400\n",
            "452/452 [==============================] - 1s 1ms/step - loss: 0.3395 - val_loss: 0.3707\n",
            "Epoch 170/400\n",
            "452/452 [==============================] - 1s 1ms/step - loss: 0.3418 - val_loss: 0.3656\n",
            "Epoch 171/400\n",
            "452/452 [==============================] - 1s 1ms/step - loss: 0.3363 - val_loss: 0.3689\n",
            "Epoch 172/400\n",
            "452/452 [==============================] - 1s 1ms/step - loss: 0.3359 - val_loss: 0.3701\n",
            "Epoch 173/400\n",
            "452/452 [==============================] - 1s 1ms/step - loss: 0.3285 - val_loss: 0.3670\n",
            "Epoch 174/400\n",
            "452/452 [==============================] - 1s 1ms/step - loss: 0.3219 - val_loss: 0.3655\n",
            "Epoch 175/400\n",
            "452/452 [==============================] - 1s 1ms/step - loss: 0.3414 - val_loss: 0.3704\n",
            "Epoch 176/400\n",
            "452/452 [==============================] - 1s 1ms/step - loss: 0.3577 - val_loss: 0.3659\n",
            "Epoch 177/400\n",
            "452/452 [==============================] - 1s 1ms/step - loss: 0.3359 - val_loss: 0.3795\n",
            "Epoch 178/400\n",
            "452/452 [==============================] - 1s 1ms/step - loss: 0.3498 - val_loss: 0.3796\n",
            "Epoch 179/400\n",
            "452/452 [==============================] - 1s 1ms/step - loss: 0.3470 - val_loss: 0.3690\n",
            "Epoch 180/400\n",
            "452/452 [==============================] - 1s 1ms/step - loss: 0.3456 - val_loss: 0.3651\n",
            "Epoch 181/400\n",
            "452/452 [==============================] - 1s 2ms/step - loss: 0.3342 - val_loss: 0.3664\n",
            "Epoch 182/400\n",
            "452/452 [==============================] - 1s 1ms/step - loss: 0.3594 - val_loss: 0.3688\n",
            "Epoch 183/400\n",
            "452/452 [==============================] - 1s 1ms/step - loss: 0.3330 - val_loss: 0.3675\n",
            "Epoch 184/400\n",
            "452/452 [==============================] - 1s 1ms/step - loss: 0.3190 - val_loss: 0.3736\n",
            "Epoch 185/400\n",
            "452/452 [==============================] - 1s 1ms/step - loss: 0.3449 - val_loss: 0.3694\n",
            "Epoch 186/400\n",
            "452/452 [==============================] - 1s 1ms/step - loss: 0.3333 - val_loss: 0.3664\n",
            "Epoch 187/400\n",
            "452/452 [==============================] - 1s 1ms/step - loss: 0.3333 - val_loss: 0.3664\n",
            "Epoch 188/400\n",
            "452/452 [==============================] - 1s 1ms/step - loss: 0.3269 - val_loss: 0.3670\n",
            "Epoch 189/400\n",
            "452/452 [==============================] - 1s 1ms/step - loss: 0.3362 - val_loss: 0.3641\n",
            "Epoch 190/400\n",
            "452/452 [==============================] - 1s 1ms/step - loss: 0.3277 - val_loss: 0.4070\n",
            "Epoch 191/400\n",
            "452/452 [==============================] - 1s 1ms/step - loss: 0.3253 - val_loss: 0.3695\n",
            "Epoch 192/400\n",
            "452/452 [==============================] - 1s 2ms/step - loss: 0.3375 - val_loss: 0.3673\n",
            "Epoch 193/400\n",
            "452/452 [==============================] - 1s 1ms/step - loss: 0.3367 - val_loss: 0.3654\n",
            "Epoch 194/400\n",
            "452/452 [==============================] - 1s 2ms/step - loss: 0.3316 - val_loss: 0.3660\n",
            "Epoch 195/400\n",
            "452/452 [==============================] - 1s 1ms/step - loss: 0.3410 - val_loss: 0.3651\n",
            "Epoch 196/400\n",
            "452/452 [==============================] - 1s 1ms/step - loss: 0.3331 - val_loss: 0.3639\n",
            "Epoch 197/400\n",
            "452/452 [==============================] - 1s 1ms/step - loss: 0.3457 - val_loss: 0.3693\n",
            "Epoch 198/400\n",
            "452/452 [==============================] - 1s 1ms/step - loss: 0.3362 - val_loss: 0.3698\n",
            "Epoch 199/400\n",
            "452/452 [==============================] - 1s 1ms/step - loss: 0.3306 - val_loss: 0.3689\n",
            "Epoch 200/400\n",
            "452/452 [==============================] - 1s 1ms/step - loss: 0.3342 - val_loss: 0.3744\n",
            "Epoch 201/400\n",
            "452/452 [==============================] - 1s 2ms/step - loss: 0.3330 - val_loss: 0.3725\n",
            "Epoch 202/400\n",
            "452/452 [==============================] - 1s 1ms/step - loss: 0.3430 - val_loss: 0.3656\n",
            "Epoch 203/400\n",
            "452/452 [==============================] - 1s 1ms/step - loss: 0.3339 - val_loss: 0.3671\n",
            "Epoch 204/400\n",
            "452/452 [==============================] - 1s 1ms/step - loss: 0.3216 - val_loss: 0.3653\n",
            "Epoch 205/400\n",
            "452/452 [==============================] - 1s 2ms/step - loss: 0.3282 - val_loss: 0.3679\n",
            "Epoch 206/400\n",
            "452/452 [==============================] - 1s 1ms/step - loss: 0.3278 - val_loss: 0.3684\n",
            "Epoch 207/400\n",
            "452/452 [==============================] - 1s 1ms/step - loss: 0.3271 - val_loss: 0.3650\n",
            "Epoch 208/400\n",
            "452/452 [==============================] - 1s 1ms/step - loss: 0.3232 - val_loss: 0.3681\n",
            "Epoch 209/400\n",
            "452/452 [==============================] - 1s 2ms/step - loss: 0.3366 - val_loss: 0.3627\n",
            "Epoch 210/400\n",
            "452/452 [==============================] - 1s 1ms/step - loss: 0.3316 - val_loss: 0.3709\n",
            "Epoch 211/400\n",
            "452/452 [==============================] - 1s 1ms/step - loss: 0.3340 - val_loss: 0.3827\n",
            "Epoch 212/400\n",
            "452/452 [==============================] - 1s 1ms/step - loss: 0.3341 - val_loss: 0.3638\n",
            "Epoch 213/400\n",
            "452/452 [==============================] - 1s 1ms/step - loss: 0.3259 - val_loss: 0.3660\n",
            "Epoch 214/400\n",
            "452/452 [==============================] - 1s 1ms/step - loss: 0.3206 - val_loss: 0.3659\n",
            "Epoch 215/400\n",
            "452/452 [==============================] - 1s 1ms/step - loss: 0.3471 - val_loss: 0.3634\n",
            "Epoch 216/400\n",
            "452/452 [==============================] - 1s 1ms/step - loss: 0.3391 - val_loss: 0.3648\n",
            "Epoch 217/400\n",
            "452/452 [==============================] - 1s 1ms/step - loss: 0.3379 - val_loss: 0.3676\n",
            "Epoch 218/400\n",
            "452/452 [==============================] - 1s 1ms/step - loss: 0.3226 - val_loss: 0.3670\n",
            "Epoch 219/400\n",
            "452/452 [==============================] - 1s 1ms/step - loss: 0.3348 - val_loss: 0.3754\n",
            "Epoch 220/400\n",
            "452/452 [==============================] - 1s 2ms/step - loss: 0.3246 - val_loss: 0.3663\n",
            "Epoch 221/400\n",
            "452/452 [==============================] - 1s 1ms/step - loss: 0.3429 - val_loss: 0.3631\n",
            "Epoch 222/400\n",
            "452/452 [==============================] - 1s 1ms/step - loss: 0.3227 - val_loss: 0.3592\n",
            "Epoch 223/400\n",
            "452/452 [==============================] - 1s 1ms/step - loss: 0.3320 - val_loss: 0.3606\n",
            "Epoch 224/400\n",
            "452/452 [==============================] - 1s 2ms/step - loss: 0.3476 - val_loss: 0.3638\n",
            "Epoch 225/400\n",
            "452/452 [==============================] - 1s 2ms/step - loss: 0.3315 - val_loss: 0.3626\n",
            "Epoch 226/400\n",
            "452/452 [==============================] - 1s 1ms/step - loss: 0.3260 - val_loss: 0.3678\n",
            "Epoch 227/400\n",
            "452/452 [==============================] - 1s 1ms/step - loss: 0.3220 - val_loss: 0.3706\n",
            "Epoch 228/400\n",
            "452/452 [==============================] - 1s 2ms/step - loss: 0.3210 - val_loss: 0.3653\n",
            "Epoch 229/400\n",
            "452/452 [==============================] - 1s 1ms/step - loss: 0.3202 - val_loss: 0.3636\n",
            "Epoch 230/400\n",
            "452/452 [==============================] - 1s 1ms/step - loss: 0.3297 - val_loss: 0.3618\n",
            "Epoch 231/400\n",
            "452/452 [==============================] - 1s 2ms/step - loss: 0.3237 - val_loss: 0.3648\n",
            "Epoch 232/400\n",
            "452/452 [==============================] - 1s 1ms/step - loss: 0.3269 - val_loss: 0.3805\n",
            "Epoch 233/400\n",
            "452/452 [==============================] - 1s 1ms/step - loss: 0.3135 - val_loss: 0.3643\n",
            "Epoch 234/400\n",
            "452/452 [==============================] - 1s 1ms/step - loss: 0.3422 - val_loss: 0.3625\n",
            "Epoch 235/400\n",
            "452/452 [==============================] - 1s 1ms/step - loss: 0.3406 - val_loss: 0.3575\n",
            "Epoch 236/400\n",
            "452/452 [==============================] - 1s 1ms/step - loss: 0.3267 - val_loss: 0.3667\n",
            "Epoch 237/400\n",
            "452/452 [==============================] - 1s 1ms/step - loss: 0.3283 - val_loss: 0.3592\n",
            "Epoch 238/400\n",
            "452/452 [==============================] - 1s 2ms/step - loss: 0.3306 - val_loss: 0.3743\n",
            "Epoch 239/400\n",
            "452/452 [==============================] - 1s 1ms/step - loss: 0.3206 - val_loss: 0.3585\n",
            "Epoch 240/400\n",
            "452/452 [==============================] - 1s 2ms/step - loss: 0.3268 - val_loss: 0.3558\n",
            "Epoch 241/400\n",
            "452/452 [==============================] - 1s 1ms/step - loss: 0.3344 - val_loss: 0.3634\n",
            "Epoch 242/400\n",
            "452/452 [==============================] - 1s 1ms/step - loss: 0.3258 - val_loss: 0.3559\n",
            "Epoch 243/400\n",
            "452/452 [==============================] - 1s 1ms/step - loss: 0.3275 - val_loss: 0.3694\n",
            "Epoch 244/400\n",
            "452/452 [==============================] - 1s 1ms/step - loss: 0.3382 - val_loss: 0.3829\n",
            "Epoch 245/400\n",
            "452/452 [==============================] - 1s 2ms/step - loss: 0.3329 - val_loss: 0.3623\n",
            "Epoch 246/400\n",
            "452/452 [==============================] - 1s 2ms/step - loss: 0.3221 - val_loss: 0.3543\n",
            "Epoch 247/400\n",
            "452/452 [==============================] - 1s 1ms/step - loss: 0.3336 - val_loss: 0.3594\n",
            "Epoch 248/400\n",
            "452/452 [==============================] - 1s 1ms/step - loss: 0.3196 - val_loss: 0.3623\n",
            "Epoch 249/400\n",
            "452/452 [==============================] - 1s 1ms/step - loss: 0.3285 - val_loss: 0.3589\n",
            "Epoch 250/400\n",
            "452/452 [==============================] - 1s 1ms/step - loss: 0.3289 - val_loss: 0.3603\n",
            "Epoch 251/400\n",
            "452/452 [==============================] - 1s 1ms/step - loss: 0.3226 - val_loss: 0.3567\n",
            "Epoch 252/400\n",
            "452/452 [==============================] - 1s 1ms/step - loss: 0.3389 - val_loss: 0.3622\n",
            "Epoch 253/400\n",
            "452/452 [==============================] - 1s 1ms/step - loss: 0.3374 - val_loss: 0.3638\n",
            "Epoch 254/400\n",
            "452/452 [==============================] - 1s 1ms/step - loss: 0.3448 - val_loss: 0.3556\n",
            "Epoch 255/400\n",
            "452/452 [==============================] - 1s 2ms/step - loss: 0.3262 - val_loss: 0.3600\n",
            "Epoch 256/400\n",
            "452/452 [==============================] - 1s 1ms/step - loss: 0.3373 - val_loss: 0.3717\n",
            "Epoch 257/400\n",
            "452/452 [==============================] - 1s 1ms/step - loss: 0.3235 - val_loss: 0.3594\n",
            "Epoch 258/400\n",
            "452/452 [==============================] - 1s 1ms/step - loss: 0.3212 - val_loss: 0.3664\n",
            "Epoch 259/400\n",
            "452/452 [==============================] - 1s 1ms/step - loss: 0.3268 - val_loss: 0.3551\n",
            "Epoch 260/400\n",
            "452/452 [==============================] - 1s 1ms/step - loss: 0.3303 - val_loss: 0.3550\n",
            "Epoch 261/400\n",
            "452/452 [==============================] - 1s 2ms/step - loss: 0.3334 - val_loss: 0.3580\n",
            "Epoch 262/400\n",
            "452/452 [==============================] - 1s 1ms/step - loss: 0.3357 - val_loss: 0.3578\n",
            "Epoch 263/400\n",
            "452/452 [==============================] - 1s 2ms/step - loss: 0.3290 - val_loss: 0.3735\n",
            "Epoch 264/400\n",
            "452/452 [==============================] - 1s 1ms/step - loss: 0.3339 - val_loss: 0.3556\n",
            "Epoch 265/400\n",
            "452/452 [==============================] - 1s 1ms/step - loss: 0.3300 - val_loss: 0.3525\n",
            "Epoch 266/400\n",
            "452/452 [==============================] - 1s 1ms/step - loss: 0.3334 - val_loss: 0.3554\n",
            "Epoch 267/400\n",
            "452/452 [==============================] - 1s 1ms/step - loss: 0.3320 - val_loss: 0.3561\n",
            "Epoch 268/400\n",
            "452/452 [==============================] - 1s 2ms/step - loss: 0.3278 - val_loss: 0.3516\n",
            "Epoch 269/400\n",
            "452/452 [==============================] - 1s 2ms/step - loss: 0.3277 - val_loss: 0.3692\n",
            "Epoch 270/400\n",
            "452/452 [==============================] - 1s 2ms/step - loss: 0.3329 - val_loss: 0.3505\n",
            "Epoch 271/400\n",
            "452/452 [==============================] - 1s 1ms/step - loss: 0.3330 - val_loss: 0.3533\n",
            "Epoch 272/400\n",
            "452/452 [==============================] - 1s 1ms/step - loss: 0.3271 - val_loss: 0.3515\n",
            "Epoch 273/400\n",
            "452/452 [==============================] - 1s 1ms/step - loss: 0.3322 - val_loss: 0.3553\n",
            "Epoch 274/400\n",
            "452/452 [==============================] - 1s 1ms/step - loss: 0.3342 - val_loss: 0.3582\n",
            "Epoch 275/400\n",
            "452/452 [==============================] - 1s 1ms/step - loss: 0.3284 - val_loss: 0.3545\n",
            "Epoch 276/400\n",
            "452/452 [==============================] - 1s 2ms/step - loss: 0.3251 - val_loss: 0.3510\n",
            "Epoch 277/400\n",
            "452/452 [==============================] - 1s 1ms/step - loss: 0.3344 - val_loss: 0.3512\n",
            "Epoch 278/400\n",
            "452/452 [==============================] - 1s 2ms/step - loss: 0.3307 - val_loss: 0.3576\n",
            "Epoch 279/400\n",
            "452/452 [==============================] - 1s 1ms/step - loss: 0.3237 - val_loss: 0.3680\n",
            "Epoch 280/400\n",
            "452/452 [==============================] - 1s 1ms/step - loss: 0.3388 - val_loss: 0.3677\n",
            "Epoch 281/400\n",
            "452/452 [==============================] - 1s 1ms/step - loss: 0.3351 - val_loss: 0.3488\n",
            "Epoch 282/400\n",
            "452/452 [==============================] - 1s 2ms/step - loss: 0.3234 - val_loss: 0.3587\n",
            "Epoch 283/400\n",
            "452/452 [==============================] - 1s 2ms/step - loss: 0.3299 - val_loss: 0.3483\n",
            "Epoch 284/400\n",
            "452/452 [==============================] - 1s 1ms/step - loss: 0.3160 - val_loss: 0.3468\n",
            "Epoch 285/400\n",
            "452/452 [==============================] - 1s 2ms/step - loss: 0.3372 - val_loss: 0.3469\n",
            "Epoch 286/400\n",
            "452/452 [==============================] - 1s 2ms/step - loss: 0.3225 - val_loss: 0.3516\n",
            "Epoch 287/400\n",
            "452/452 [==============================] - 1s 2ms/step - loss: 0.3145 - val_loss: 0.3466\n",
            "Epoch 288/400\n",
            "452/452 [==============================] - 1s 1ms/step - loss: 0.3366 - val_loss: 0.3466\n",
            "Epoch 289/400\n",
            "452/452 [==============================] - 1s 1ms/step - loss: 0.3289 - val_loss: 0.3466\n",
            "Epoch 290/400\n",
            "452/452 [==============================] - 1s 1ms/step - loss: 0.3080 - val_loss: 0.3541\n",
            "Epoch 291/400\n",
            "452/452 [==============================] - 1s 1ms/step - loss: 0.3052 - val_loss: 0.3530\n",
            "Epoch 292/400\n",
            "452/452 [==============================] - 1s 1ms/step - loss: 0.3105 - val_loss: 0.3489\n",
            "Epoch 293/400\n",
            "452/452 [==============================] - 1s 1ms/step - loss: 0.3322 - val_loss: 0.3467\n",
            "Epoch 294/400\n",
            "452/452 [==============================] - 1s 2ms/step - loss: 0.3126 - val_loss: 0.3459\n",
            "Epoch 295/400\n",
            "452/452 [==============================] - 1s 2ms/step - loss: 0.3307 - val_loss: 0.3714\n",
            "Epoch 296/400\n",
            "452/452 [==============================] - 1s 1ms/step - loss: 0.3174 - val_loss: 0.3500\n",
            "Epoch 297/400\n",
            "452/452 [==============================] - 1s 1ms/step - loss: 0.3259 - val_loss: 0.3567\n",
            "Epoch 298/400\n",
            "452/452 [==============================] - 1s 1ms/step - loss: 0.3299 - val_loss: 0.3440\n",
            "Epoch 299/400\n",
            "452/452 [==============================] - 1s 1ms/step - loss: 0.3173 - val_loss: 0.3547\n",
            "Epoch 300/400\n",
            "452/452 [==============================] - 1s 1ms/step - loss: 0.3242 - val_loss: 0.3509\n",
            "Epoch 301/400\n",
            "452/452 [==============================] - 1s 1ms/step - loss: 0.3159 - val_loss: 0.3445\n",
            "Epoch 302/400\n",
            "452/452 [==============================] - 1s 1ms/step - loss: 0.3237 - val_loss: 0.3462\n",
            "Epoch 303/400\n",
            "452/452 [==============================] - 1s 1ms/step - loss: 0.3310 - val_loss: 0.3485\n",
            "Epoch 304/400\n",
            "452/452 [==============================] - 1s 1ms/step - loss: 0.3241 - val_loss: 0.3624\n",
            "Epoch 305/400\n",
            "452/452 [==============================] - 1s 1ms/step - loss: 0.3207 - val_loss: 0.3475\n",
            "Epoch 306/400\n",
            "452/452 [==============================] - 1s 1ms/step - loss: 0.3244 - val_loss: 0.3424\n",
            "Epoch 307/400\n",
            "452/452 [==============================] - 1s 1ms/step - loss: 0.3249 - val_loss: 0.3440\n",
            "Epoch 308/400\n",
            "452/452 [==============================] - 1s 2ms/step - loss: 0.3240 - val_loss: 0.3439\n",
            "Epoch 309/400\n",
            "452/452 [==============================] - 1s 1ms/step - loss: 0.3102 - val_loss: 0.3576\n",
            "Epoch 310/400\n",
            "452/452 [==============================] - 1s 2ms/step - loss: 0.3159 - val_loss: 0.3678\n",
            "Epoch 311/400\n",
            "452/452 [==============================] - 1s 2ms/step - loss: 0.3280 - val_loss: 0.3423\n",
            "Epoch 312/400\n",
            "452/452 [==============================] - 1s 1ms/step - loss: 0.3227 - val_loss: 0.3436\n",
            "Epoch 313/400\n",
            "452/452 [==============================] - 1s 1ms/step - loss: 0.3274 - val_loss: 0.3420\n",
            "Epoch 314/400\n",
            "452/452 [==============================] - 1s 1ms/step - loss: 0.3229 - val_loss: 0.3437\n",
            "Epoch 315/400\n",
            "452/452 [==============================] - 1s 2ms/step - loss: 0.3254 - val_loss: 0.3452\n",
            "Epoch 316/400\n",
            "452/452 [==============================] - 1s 1ms/step - loss: 0.3121 - val_loss: 0.3447\n",
            "Epoch 317/400\n",
            "452/452 [==============================] - 1s 1ms/step - loss: 0.3055 - val_loss: 0.3504\n",
            "Epoch 318/400\n",
            "452/452 [==============================] - 1s 1ms/step - loss: 0.3190 - val_loss: 0.3430\n",
            "Epoch 319/400\n",
            "452/452 [==============================] - 1s 1ms/step - loss: 0.3166 - val_loss: 0.3498\n",
            "Epoch 320/400\n",
            "452/452 [==============================] - 1s 1ms/step - loss: 0.3293 - val_loss: 0.3422\n",
            "Epoch 321/400\n",
            "452/452 [==============================] - 1s 1ms/step - loss: 0.3175 - val_loss: 0.3419\n",
            "Epoch 322/400\n",
            "452/452 [==============================] - 1s 1ms/step - loss: 0.3145 - val_loss: 0.3409\n",
            "Epoch 323/400\n",
            "452/452 [==============================] - 1s 1ms/step - loss: 0.3301 - val_loss: 0.3410\n",
            "Epoch 324/400\n",
            "452/452 [==============================] - 1s 1ms/step - loss: 0.3152 - val_loss: 0.3411\n",
            "Epoch 325/400\n",
            "452/452 [==============================] - 1s 1ms/step - loss: 0.3141 - val_loss: 0.3571\n",
            "Epoch 326/400\n",
            "452/452 [==============================] - 1s 1ms/step - loss: 0.3120 - val_loss: 0.3408\n",
            "Epoch 327/400\n",
            "452/452 [==============================] - 1s 1ms/step - loss: 0.3117 - val_loss: 0.3578\n",
            "Epoch 328/400\n",
            "452/452 [==============================] - 1s 2ms/step - loss: 0.3183 - val_loss: 0.3586\n",
            "Epoch 329/400\n",
            "452/452 [==============================] - 1s 2ms/step - loss: 0.3262 - val_loss: 0.3472\n",
            "Epoch 330/400\n",
            "452/452 [==============================] - 1s 2ms/step - loss: 0.3041 - val_loss: 0.3689\n",
            "Epoch 331/400\n",
            "452/452 [==============================] - 1s 1ms/step - loss: 0.3341 - val_loss: 0.3457\n",
            "Epoch 332/400\n",
            "452/452 [==============================] - 1s 1ms/step - loss: 0.3248 - val_loss: 0.3507\n",
            "Epoch 333/400\n",
            "452/452 [==============================] - 1s 2ms/step - loss: 0.3168 - val_loss: 0.3612\n",
            "Epoch 334/400\n",
            "452/452 [==============================] - 1s 2ms/step - loss: 0.3167 - val_loss: 0.3432\n",
            "Epoch 335/400\n",
            "452/452 [==============================] - 1s 1ms/step - loss: 0.3175 - val_loss: 0.3434\n",
            "Epoch 336/400\n",
            "452/452 [==============================] - 1s 2ms/step - loss: 0.3084 - val_loss: 0.3451\n",
            "Epoch 337/400\n",
            "452/452 [==============================] - 1s 1ms/step - loss: 0.3255 - val_loss: 0.3436\n",
            "Epoch 338/400\n",
            "452/452 [==============================] - 1s 1ms/step - loss: 0.3167 - val_loss: 0.3570\n",
            "Epoch 339/400\n",
            "452/452 [==============================] - 1s 2ms/step - loss: 0.3112 - val_loss: 0.3538\n",
            "Epoch 340/400\n",
            "452/452 [==============================] - 1s 1ms/step - loss: 0.3131 - val_loss: 0.3458\n",
            "Epoch 341/400\n",
            "452/452 [==============================] - 1s 2ms/step - loss: 0.3204 - val_loss: 0.3426\n",
            "Epoch 342/400\n",
            "452/452 [==============================] - 1s 2ms/step - loss: 0.3190 - val_loss: 0.3459\n",
            "Epoch 343/400\n",
            "452/452 [==============================] - 1s 2ms/step - loss: 0.3059 - val_loss: 0.3494\n",
            "Epoch 344/400\n",
            "452/452 [==============================] - 1s 2ms/step - loss: 0.3206 - val_loss: 0.3557\n",
            "Epoch 345/400\n",
            "452/452 [==============================] - 1s 2ms/step - loss: 0.3210 - val_loss: 0.3406\n",
            "Epoch 346/400\n",
            "452/452 [==============================] - 1s 1ms/step - loss: 0.3207 - val_loss: 0.3756\n",
            "Epoch 347/400\n",
            "452/452 [==============================] - 1s 1ms/step - loss: 0.3230 - val_loss: 0.3607\n",
            "Epoch 348/400\n",
            "452/452 [==============================] - 1s 2ms/step - loss: 0.3266 - val_loss: 0.3443\n",
            "Epoch 349/400\n",
            "452/452 [==============================] - 1s 1ms/step - loss: 0.3198 - val_loss: 0.3501\n",
            "Epoch 350/400\n",
            "452/452 [==============================] - 1s 1ms/step - loss: 0.3211 - val_loss: 0.3494\n",
            "Epoch 351/400\n",
            "452/452 [==============================] - 1s 2ms/step - loss: 0.3111 - val_loss: 0.3401\n",
            "Epoch 352/400\n",
            "452/452 [==============================] - 1s 1ms/step - loss: 0.3221 - val_loss: 0.3397\n",
            "Epoch 353/400\n",
            "452/452 [==============================] - 1s 1ms/step - loss: 0.3095 - val_loss: 0.3668\n",
            "Epoch 354/400\n",
            "452/452 [==============================] - 1s 2ms/step - loss: 0.3057 - val_loss: 0.3397\n",
            "Epoch 355/400\n",
            "452/452 [==============================] - 1s 2ms/step - loss: 0.3138 - val_loss: 0.3394\n",
            "Epoch 356/400\n",
            "452/452 [==============================] - 1s 2ms/step - loss: 0.3268 - val_loss: 0.3408\n",
            "Epoch 357/400\n",
            "452/452 [==============================] - 1s 2ms/step - loss: 0.3140 - val_loss: 0.3465\n",
            "Epoch 358/400\n",
            "452/452 [==============================] - 1s 2ms/step - loss: 0.3101 - val_loss: 0.3413\n",
            "Epoch 359/400\n",
            "452/452 [==============================] - 1s 2ms/step - loss: 0.3159 - val_loss: 0.3407\n",
            "Epoch 360/400\n",
            "452/452 [==============================] - 1s 2ms/step - loss: 0.3079 - val_loss: 0.3433\n",
            "Epoch 361/400\n",
            "452/452 [==============================] - 1s 2ms/step - loss: 0.3097 - val_loss: 0.3418\n",
            "Epoch 362/400\n",
            "452/452 [==============================] - 1s 2ms/step - loss: 0.3072 - val_loss: 0.3416\n",
            "Epoch 363/400\n",
            "452/452 [==============================] - 1s 1ms/step - loss: 0.3019 - val_loss: 0.3480\n",
            "Epoch 364/400\n",
            "452/452 [==============================] - 1s 2ms/step - loss: 0.3135 - val_loss: 0.3482\n",
            "Epoch 365/400\n",
            "452/452 [==============================] - 1s 2ms/step - loss: 0.3117 - val_loss: 0.3484\n",
            "Epoch 366/400\n",
            "452/452 [==============================] - 1s 2ms/step - loss: 0.3104 - val_loss: 0.3420\n",
            "Epoch 367/400\n",
            "452/452 [==============================] - 1s 2ms/step - loss: 0.3038 - val_loss: 0.3455\n",
            "Epoch 368/400\n",
            "452/452 [==============================] - 1s 2ms/step - loss: 0.3138 - val_loss: 0.3589\n",
            "Epoch 369/400\n",
            "452/452 [==============================] - 1s 1ms/step - loss: 0.3078 - val_loss: 0.3535\n",
            "Epoch 370/400\n",
            "452/452 [==============================] - 1s 2ms/step - loss: 0.3108 - val_loss: 0.3388\n",
            "Epoch 371/400\n",
            "452/452 [==============================] - 1s 2ms/step - loss: 0.3083 - val_loss: 0.3411\n",
            "Epoch 372/400\n",
            "452/452 [==============================] - 1s 1ms/step - loss: 0.3208 - val_loss: 0.3449\n",
            "Epoch 373/400\n",
            "452/452 [==============================] - 1s 1ms/step - loss: 0.3129 - val_loss: 0.3435\n",
            "Epoch 374/400\n",
            "452/452 [==============================] - 1s 2ms/step - loss: 0.3225 - val_loss: 0.3390\n",
            "Epoch 375/400\n",
            "452/452 [==============================] - 1s 2ms/step - loss: 0.3004 - val_loss: 0.3409\n",
            "Epoch 376/400\n",
            "452/452 [==============================] - 1s 1ms/step - loss: 0.2999 - val_loss: 0.3449\n",
            "Epoch 377/400\n",
            "452/452 [==============================] - 1s 2ms/step - loss: 0.3081 - val_loss: 0.3419\n",
            "Epoch 378/400\n",
            "452/452 [==============================] - 1s 2ms/step - loss: 0.3098 - val_loss: 0.3461\n",
            "Epoch 379/400\n",
            "452/452 [==============================] - 1s 2ms/step - loss: 0.3085 - val_loss: 0.3387\n",
            "Epoch 380/400\n",
            "452/452 [==============================] - 1s 2ms/step - loss: 0.3074 - val_loss: 0.3387\n",
            "Epoch 381/400\n",
            "452/452 [==============================] - 1s 2ms/step - loss: 0.3187 - val_loss: 0.3439\n",
            "Epoch 382/400\n",
            "452/452 [==============================] - 1s 2ms/step - loss: 0.3118 - val_loss: 0.3387\n",
            "Epoch 383/400\n",
            "452/452 [==============================] - 1s 2ms/step - loss: 0.3247 - val_loss: 0.3411\n",
            "Epoch 384/400\n",
            "452/452 [==============================] - 1s 2ms/step - loss: 0.3247 - val_loss: 0.3382\n",
            "Epoch 385/400\n",
            "452/452 [==============================] - 1s 2ms/step - loss: 0.3241 - val_loss: 0.3510\n",
            "Epoch 386/400\n",
            "452/452 [==============================] - 1s 2ms/step - loss: 0.3122 - val_loss: 0.3416\n",
            "Epoch 387/400\n",
            "452/452 [==============================] - 1s 2ms/step - loss: 0.3268 - val_loss: 0.3434\n",
            "Epoch 388/400\n",
            "452/452 [==============================] - 1s 2ms/step - loss: 0.3207 - val_loss: 0.3412\n",
            "Epoch 389/400\n",
            "452/452 [==============================] - 1s 2ms/step - loss: 0.3308 - val_loss: 0.3386\n",
            "Epoch 390/400\n",
            "452/452 [==============================] - 1s 2ms/step - loss: 0.3066 - val_loss: 0.3425\n",
            "Epoch 391/400\n",
            "452/452 [==============================] - 1s 2ms/step - loss: 0.3142 - val_loss: 0.3419\n",
            "Epoch 392/400\n",
            "452/452 [==============================] - 1s 1ms/step - loss: 0.3028 - val_loss: 0.3423\n",
            "Epoch 393/400\n",
            "452/452 [==============================] - 1s 2ms/step - loss: 0.3097 - val_loss: 0.3461\n",
            "Epoch 394/400\n",
            "452/452 [==============================] - 1s 2ms/step - loss: 0.3065 - val_loss: 0.3404\n",
            "Epoch 395/400\n",
            "452/452 [==============================] - 1s 1ms/step - loss: 0.3065 - val_loss: 0.3422\n",
            "Epoch 396/400\n",
            "452/452 [==============================] - 1s 2ms/step - loss: 0.3154 - val_loss: 0.3389\n",
            "Epoch 397/400\n",
            "452/452 [==============================] - 1s 2ms/step - loss: 0.3171 - val_loss: 0.3431\n",
            "Epoch 398/400\n",
            "452/452 [==============================] - 1s 2ms/step - loss: 0.3118 - val_loss: 0.3452\n",
            "Epoch 399/400\n",
            "452/452 [==============================] - 1s 2ms/step - loss: 0.3139 - val_loss: 0.3441\n",
            "Epoch 400/400\n",
            "452/452 [==============================] - 1s 2ms/step - loss: 0.2992 - val_loss: 0.3422\n"
          ],
          "name": "stdout"
        },
        {
          "output_type": "execute_result",
          "data": {
            "text/plain": [
              "<tensorflow.python.keras.callbacks.History at 0x7f2168041410>"
            ]
          },
          "metadata": {
            "tags": []
          },
          "execution_count": 19
        }
      ]
    },
    {
      "cell_type": "code",
      "metadata": {
        "colab": {
          "base_uri": "https://localhost:8080/",
          "height": 419
        },
        "id": "ABb7zgYZ8Dir",
        "outputId": "c16ce5e7-6c48-4f94-95ff-1a81f15dca49"
      },
      "source": [
        "history = pd.DataFrame(model.history.history)\n",
        "history"
      ],
      "execution_count": null,
      "outputs": [
        {
          "output_type": "execute_result",
          "data": {
            "text/html": [
              "<div>\n",
              "<style scoped>\n",
              "    .dataframe tbody tr th:only-of-type {\n",
              "        vertical-align: middle;\n",
              "    }\n",
              "\n",
              "    .dataframe tbody tr th {\n",
              "        vertical-align: top;\n",
              "    }\n",
              "\n",
              "    .dataframe thead th {\n",
              "        text-align: right;\n",
              "    }\n",
              "</style>\n",
              "<table border=\"1\" class=\"dataframe\">\n",
              "  <thead>\n",
              "    <tr style=\"text-align: right;\">\n",
              "      <th></th>\n",
              "      <th>loss</th>\n",
              "      <th>val_loss</th>\n",
              "    </tr>\n",
              "  </thead>\n",
              "  <tbody>\n",
              "    <tr>\n",
              "      <th>0</th>\n",
              "      <td>1.979210</td>\n",
              "      <td>0.847805</td>\n",
              "    </tr>\n",
              "    <tr>\n",
              "      <th>1</th>\n",
              "      <td>0.632408</td>\n",
              "      <td>0.602768</td>\n",
              "    </tr>\n",
              "    <tr>\n",
              "      <th>2</th>\n",
              "      <td>0.551467</td>\n",
              "      <td>0.572226</td>\n",
              "    </tr>\n",
              "    <tr>\n",
              "      <th>3</th>\n",
              "      <td>0.530325</td>\n",
              "      <td>0.554653</td>\n",
              "    </tr>\n",
              "    <tr>\n",
              "      <th>4</th>\n",
              "      <td>0.514226</td>\n",
              "      <td>0.538442</td>\n",
              "    </tr>\n",
              "    <tr>\n",
              "      <th>...</th>\n",
              "      <td>...</td>\n",
              "      <td>...</td>\n",
              "    </tr>\n",
              "    <tr>\n",
              "      <th>395</th>\n",
              "      <td>0.312131</td>\n",
              "      <td>0.338861</td>\n",
              "    </tr>\n",
              "    <tr>\n",
              "      <th>396</th>\n",
              "      <td>0.311055</td>\n",
              "      <td>0.343067</td>\n",
              "    </tr>\n",
              "    <tr>\n",
              "      <th>397</th>\n",
              "      <td>0.311507</td>\n",
              "      <td>0.345217</td>\n",
              "    </tr>\n",
              "    <tr>\n",
              "      <th>398</th>\n",
              "      <td>0.310823</td>\n",
              "      <td>0.344131</td>\n",
              "    </tr>\n",
              "    <tr>\n",
              "      <th>399</th>\n",
              "      <td>0.312367</td>\n",
              "      <td>0.342209</td>\n",
              "    </tr>\n",
              "  </tbody>\n",
              "</table>\n",
              "<p>400 rows × 2 columns</p>\n",
              "</div>"
            ],
            "text/plain": [
              "         loss  val_loss\n",
              "0    1.979210  0.847805\n",
              "1    0.632408  0.602768\n",
              "2    0.551467  0.572226\n",
              "3    0.530325  0.554653\n",
              "4    0.514226  0.538442\n",
              "..        ...       ...\n",
              "395  0.312131  0.338861\n",
              "396  0.311055  0.343067\n",
              "397  0.311507  0.345217\n",
              "398  0.310823  0.344131\n",
              "399  0.312367  0.342209\n",
              "\n",
              "[400 rows x 2 columns]"
            ]
          },
          "metadata": {
            "tags": []
          },
          "execution_count": 20
        }
      ]
    },
    {
      "cell_type": "code",
      "metadata": {
        "colab": {
          "base_uri": "https://localhost:8080/",
          "height": 282
        },
        "id": "B2v9zfOT8JSA",
        "outputId": "ce365e1e-294e-44d1-9ed8-d313210495c2"
      },
      "source": [
        "history.plot()"
      ],
      "execution_count": null,
      "outputs": [
        {
          "output_type": "execute_result",
          "data": {
            "text/plain": [
              "<matplotlib.axes._subplots.AxesSubplot at 0x7f21646e45d0>"
            ]
          },
          "metadata": {
            "tags": []
          },
          "execution_count": 21
        },
        {
          "output_type": "display_data",
          "data": {
            "image/png": "[encoded data removed]",
            "text/plain": [
              "<Figure size 432x288 with 1 Axes>"
            ]
          },
          "metadata": {
            "tags": [],
            "needs_background": "light"
          }
        }
      ]
    },
    {
      "cell_type": "code",
      "metadata": {
        "id": "rToyFb1f2mSM"
      },
      "source": [
        "# Checking to see how good we did\n",
        "from sklearn.metrics import mean_squared_error, mean_absolute_error,explained_variance_score, r2_score\n",
        "import numpy as np"
      ],
      "execution_count": null,
      "outputs": []
    },
    {
      "cell_type": "code",
      "metadata": {
        "id": "X7MdbJOi3E2y"
      },
      "source": [
        "predictions = model.predict(X_test)"
      ],
      "execution_count": null,
      "outputs": []
    },
    {
      "cell_type": "code",
      "metadata": {
        "colab": {
          "base_uri": "https://localhost:8080/"
        },
        "id": "zIrIBeqtsUI6",
        "outputId": "5b9c447f-7654-4788-b6e1-51dccf097cfb"
      },
      "source": [
        "# R squared error\n",
        "r2_score(y_test,predictions)"
      ],
      "execution_count": null,
      "outputs": [
        {
          "output_type": "execute_result",
          "data": {
            "text/plain": [
              "0.7471182892779807"
            ]
          },
          "metadata": {
            "tags": []
          },
          "execution_count": 24
        }
      ]
    },
    {
      "cell_type": "code",
      "metadata": {
        "colab": {
          "base_uri": "https://localhost:8080/"
        },
        "id": "_Yxri68a3H3a",
        "outputId": "de8022ce-37ff-401f-92d7-95937b0aaf36"
      },
      "source": [
        "# Root mean squared error\n",
        "np.sqrt(mean_squared_error(y_test,predictions))"
      ],
      "execution_count": null,
      "outputs": [
        {
          "output_type": "execute_result",
          "data": {
            "text/plain": [
              "0.5849859801201276"
            ]
          },
          "metadata": {
            "tags": []
          },
          "execution_count": 25
        }
      ]
    },
    {
      "cell_type": "code",
      "metadata": {
        "colab": {
          "base_uri": "https://localhost:8080/"
        },
        "id": "80hv_UvR3J56",
        "outputId": "1ec5cd36-0459-4e5f-8a60-febc8a57d4b6"
      },
      "source": [
        "mean_absolute_error(y_test,predictions)"
      ],
      "execution_count": null,
      "outputs": [
        {
          "output_type": "execute_result",
          "data": {
            "text/plain": [
              "0.4100455008087293"
            ]
          },
          "metadata": {
            "tags": []
          },
          "execution_count": 26
        }
      ]
    },
    {
      "cell_type": "code",
      "metadata": {
        "colab": {
          "base_uri": "https://localhost:8080/"
        },
        "id": "3vtRAb6x3O_h",
        "outputId": "d713448e-abc8-4db6-f17f-03ffe48465e6"
      },
      "source": [
        "# Explained variance score: Tells you how much variance is being explained by model\n",
        "explained_variance_score(y_test,predictions)"
      ],
      "execution_count": null,
      "outputs": [
        {
          "output_type": "execute_result",
          "data": {
            "text/plain": [
              "0.749655970830179"
            ]
          },
          "metadata": {
            "tags": []
          },
          "execution_count": 27
        }
      ]
    },
    {
      "cell_type": "code",
      "metadata": {
        "id": "91xHUL133UVS"
      },
      "source": [
        "my_index = 101\n",
        "single_house = cali.drop('SalePrice',axis=1).iloc[my_index]"
      ],
      "execution_count": null,
      "outputs": []
    },
    {
      "cell_type": "code",
      "metadata": {
        "id": "xl5BoptB3a1Z"
      },
      "source": [
        "single_house = scaler.transform(single_house.values.reshape(-1,8))"
      ],
      "execution_count": null,
      "outputs": []
    },
    {
      "cell_type": "code",
      "metadata": {
        "colab": {
          "base_uri": "https://localhost:8080/"
        },
        "id": "IpsgpbDV3rLx",
        "outputId": "98a021b7-9416-493f-9acb-f01283b77864"
      },
      "source": [
        "model.predict(single_house)[0][0]"
      ],
      "execution_count": null,
      "outputs": [
        {
          "output_type": "execute_result",
          "data": {
            "text/plain": [
              "2.6933608"
            ]
          },
          "metadata": {
            "tags": []
          },
          "execution_count": 30
        }
      ]
    },
    {
      "cell_type": "code",
      "metadata": {
        "colab": {
          "base_uri": "https://localhost:8080/"
        },
        "id": "xZT2Og7w3s6Z",
        "outputId": "6b1aa9bf-41b7-4330-c823-0de9af4759af"
      },
      "source": [
        "cali['SalePrice'][my_index]"
      ],
      "execution_count": null,
      "outputs": [
        {
          "output_type": "execute_result",
          "data": {
            "text/plain": [
              "2.734"
            ]
          },
          "metadata": {
            "tags": []
          },
          "execution_count": 31
        }
      ]
    },
    {
      "cell_type": "code",
      "metadata": {
        "colab": {
          "base_uri": "https://localhost:8080/"
        },
        "id": "BgNjV54n3u0w",
        "outputId": "18753f9e-1368-46ff-b1e8-1dc574092777"
      },
      "source": [
        "print('Off by : $',round(abs((model.predict(single_house)[0][0]*100000) - (cali['SalePrice'][my_index]*100000)),2))"
      ],
      "execution_count": null,
      "outputs": [
        {
          "output_type": "stream",
          "text": [
            "Off by : $ 4063.92\n"
          ],
          "name": "stdout"
        }
      ]
    },
    {
      "cell_type": "code",
      "metadata": {
        "id": "zFCBXVjq33AA",
        "colab": {
          "base_uri": "https://localhost:8080/"
        },
        "outputId": "56c99de8-1125-47a2-92da-3139d23b35cd"
      },
      "source": [
        "model.save('/content/drive/My Drive/DATA/cali_test_model_v1.h5')\n",
        "print('Saved')"
      ],
      "execution_count": null,
      "outputs": [
        {
          "output_type": "stream",
          "text": [
            "Saved\n"
          ],
          "name": "stdout"
        }
      ]
    },
    {
      "cell_type": "code",
      "metadata": {
        "id": "b8xV22ddfsSW"
      },
      "source": [
        "# -------------------------------- Training on whole data set---------------------------------------"
      ],
      "execution_count": null,
      "outputs": []
    },
    {
      "cell_type": "code",
      "metadata": {
        "id": "Our0uXo79x24"
      },
      "source": [
        "scaler = MinMaxScaler()"
      ],
      "execution_count": null,
      "outputs": []
    },
    {
      "cell_type": "code",
      "metadata": {
        "id": "Ts_A6ZAV-ont"
      },
      "source": [
        "# Fitting and transforming across whole data set\n",
        "X = scaler.fit_transform(X)"
      ],
      "execution_count": null,
      "outputs": []
    },
    {
      "cell_type": "code",
      "metadata": {
        "id": "I-WmSD4--uq0"
      },
      "source": [
        "# Creating a sequential model\n",
        "model = Sequential()\n",
        "\n",
        "# Base # of neurons from size of feature data (# of features)\n",
        "\n",
        "model.add(Dense(X_train.shape[1],activation='relu'))\n",
        "model.add(Dense(X_train.shape[1],activation='relu'))\n",
        "model.add(Dense(X_train.shape[1],activation='relu'))\n",
        "\n",
        "# Final layer: Outputs predicted price\n",
        "model.add(Dense(1))\n",
        "\n",
        "model.compile(optimizer='adam',loss='mse')"
      ],
      "execution_count": null,
      "outputs": []
    },
    {
      "cell_type": "code",
      "metadata": {
        "colab": {
          "base_uri": "https://localhost:8080/"
        },
        "id": "NqJZP5Yq-ypM",
        "outputId": "ecee8c91-b711-46e6-df24-9a922a3f8eba"
      },
      "source": [
        "model.fit(x=X,y=y,epochs=400)"
      ],
      "execution_count": null,
      "outputs": [
        {
          "output_type": "stream",
          "text": [
            "Epoch 1/400\n",
            "645/645 [==============================] - 1s 980us/step - loss: 2.4561\n",
            "Epoch 2/400\n",
            "645/645 [==============================] - 1s 1ms/step - loss: 0.6043\n",
            "Epoch 3/400\n",
            "645/645 [==============================] - 1s 1ms/step - loss: 0.5898\n",
            "Epoch 4/400\n",
            "645/645 [==============================] - 1s 1ms/step - loss: 0.5439\n",
            "Epoch 5/400\n",
            "645/645 [==============================] - 1s 1ms/step - loss: 0.5139\n",
            "Epoch 6/400\n",
            "645/645 [==============================] - 1s 995us/step - loss: 0.4988\n",
            "Epoch 7/400\n",
            "645/645 [==============================] - 1s 1ms/step - loss: 0.4907\n",
            "Epoch 8/400\n",
            "645/645 [==============================] - 1s 1ms/step - loss: 0.4866\n",
            "Epoch 9/400\n",
            "645/645 [==============================] - 1s 1ms/step - loss: 0.4584\n",
            "Epoch 10/400\n",
            "645/645 [==============================] - 1s 969us/step - loss: 0.4667\n",
            "Epoch 11/400\n",
            "645/645 [==============================] - 1s 990us/step - loss: 0.4876\n",
            "Epoch 12/400\n",
            "645/645 [==============================] - 1s 1ms/step - loss: 0.4423\n",
            "Epoch 13/400\n",
            "645/645 [==============================] - 1s 959us/step - loss: 0.4487\n",
            "Epoch 14/400\n",
            "645/645 [==============================] - 1s 1ms/step - loss: 0.4439\n",
            "Epoch 15/400\n",
            "645/645 [==============================] - 1s 1ms/step - loss: 0.4530\n",
            "Epoch 16/400\n",
            "645/645 [==============================] - 1s 1ms/step - loss: 0.4476\n",
            "Epoch 17/400\n",
            "645/645 [==============================] - 1s 968us/step - loss: 0.4405\n",
            "Epoch 18/400\n",
            "645/645 [==============================] - 1s 1ms/step - loss: 0.4669\n",
            "Epoch 19/400\n",
            "645/645 [==============================] - 1s 1ms/step - loss: 0.4500\n",
            "Epoch 20/400\n",
            "645/645 [==============================] - 1s 1ms/step - loss: 0.4521\n",
            "Epoch 21/400\n",
            "645/645 [==============================] - 1s 998us/step - loss: 0.4531\n",
            "Epoch 22/400\n",
            "645/645 [==============================] - 1s 982us/step - loss: 0.4502\n",
            "Epoch 23/400\n",
            "645/645 [==============================] - 1s 1ms/step - loss: 0.4434\n",
            "Epoch 24/400\n",
            "645/645 [==============================] - 1s 992us/step - loss: 0.4466\n",
            "Epoch 25/400\n",
            "645/645 [==============================] - 1s 966us/step - loss: 0.4573\n",
            "Epoch 26/400\n",
            "645/645 [==============================] - 1s 1ms/step - loss: 0.4430\n",
            "Epoch 27/400\n",
            "645/645 [==============================] - 1s 1ms/step - loss: 0.4300\n",
            "Epoch 28/400\n",
            "645/645 [==============================] - 1s 973us/step - loss: 0.4411\n",
            "Epoch 29/400\n",
            "645/645 [==============================] - 1s 990us/step - loss: 0.4322\n",
            "Epoch 30/400\n",
            "645/645 [==============================] - 1s 1ms/step - loss: 0.4384\n",
            "Epoch 31/400\n",
            "645/645 [==============================] - 1s 1ms/step - loss: 0.4160\n",
            "Epoch 32/400\n",
            "645/645 [==============================] - 1s 1ms/step - loss: 0.4205\n",
            "Epoch 33/400\n",
            "645/645 [==============================] - 1s 1ms/step - loss: 0.4418\n",
            "Epoch 34/400\n",
            "645/645 [==============================] - 1s 1ms/step - loss: 0.4242\n",
            "Epoch 35/400\n",
            "645/645 [==============================] - 1s 1ms/step - loss: 0.4246\n",
            "Epoch 36/400\n",
            "645/645 [==============================] - 1s 1ms/step - loss: 0.4281\n",
            "Epoch 37/400\n",
            "645/645 [==============================] - 1s 1ms/step - loss: 0.4256\n",
            "Epoch 38/400\n",
            "645/645 [==============================] - 1s 1ms/step - loss: 0.4158\n",
            "Epoch 39/400\n",
            "645/645 [==============================] - 1s 1ms/step - loss: 0.4176\n",
            "Epoch 40/400\n",
            "645/645 [==============================] - 1s 974us/step - loss: 0.4097\n",
            "Epoch 41/400\n",
            "645/645 [==============================] - 1s 937us/step - loss: 0.4127\n",
            "Epoch 42/400\n",
            "645/645 [==============================] - 1s 1ms/step - loss: 0.4242\n",
            "Epoch 43/400\n",
            "645/645 [==============================] - 1s 1ms/step - loss: 0.4116\n",
            "Epoch 44/400\n",
            "645/645 [==============================] - 1s 936us/step - loss: 0.3969\n",
            "Epoch 45/400\n",
            "645/645 [==============================] - 1s 1ms/step - loss: 0.4059\n",
            "Epoch 46/400\n",
            "645/645 [==============================] - 1s 1ms/step - loss: 0.4043\n",
            "Epoch 47/400\n",
            "645/645 [==============================] - 1s 1ms/step - loss: 0.4025\n",
            "Epoch 48/400\n",
            "645/645 [==============================] - 1s 984us/step - loss: 0.4133\n",
            "Epoch 49/400\n",
            "645/645 [==============================] - 1s 1ms/step - loss: 0.4003\n",
            "Epoch 50/400\n",
            "645/645 [==============================] - 1s 987us/step - loss: 0.4035\n",
            "Epoch 51/400\n",
            "645/645 [==============================] - 1s 1ms/step - loss: 0.3979\n",
            "Epoch 52/400\n",
            "645/645 [==============================] - 1s 993us/step - loss: 0.3919\n",
            "Epoch 53/400\n",
            "645/645 [==============================] - 1s 997us/step - loss: 0.3948\n",
            "Epoch 54/400\n",
            "645/645 [==============================] - 1s 967us/step - loss: 0.3911\n",
            "Epoch 55/400\n",
            "645/645 [==============================] - 1s 956us/step - loss: 0.3974\n",
            "Epoch 56/400\n",
            "645/645 [==============================] - 1s 1ms/step - loss: 0.3931\n",
            "Epoch 57/400\n",
            "645/645 [==============================] - 1s 1ms/step - loss: 0.3937\n",
            "Epoch 58/400\n",
            "645/645 [==============================] - 1s 985us/step - loss: 0.3735\n",
            "Epoch 59/400\n",
            "645/645 [==============================] - 1s 1ms/step - loss: 0.3874\n",
            "Epoch 60/400\n",
            "645/645 [==============================] - 1s 1ms/step - loss: 0.4019\n",
            "Epoch 61/400\n",
            "645/645 [==============================] - 1s 1ms/step - loss: 0.3967\n",
            "Epoch 62/400\n",
            "645/645 [==============================] - 1s 1ms/step - loss: 0.4009\n",
            "Epoch 63/400\n",
            "645/645 [==============================] - 1s 1ms/step - loss: 0.3876\n",
            "Epoch 64/400\n",
            "645/645 [==============================] - 1s 1ms/step - loss: 0.3930\n",
            "Epoch 65/400\n",
            "645/645 [==============================] - 1s 1ms/step - loss: 0.3899\n",
            "Epoch 66/400\n",
            "645/645 [==============================] - 1s 1ms/step - loss: 0.3758\n",
            "Epoch 67/400\n",
            "645/645 [==============================] - 1s 1ms/step - loss: 0.3943\n",
            "Epoch 68/400\n",
            "645/645 [==============================] - 1s 1ms/step - loss: 0.3832\n",
            "Epoch 69/400\n",
            "645/645 [==============================] - 1s 1ms/step - loss: 0.3863\n",
            "Epoch 70/400\n",
            "645/645 [==============================] - 1s 1ms/step - loss: 0.3791\n",
            "Epoch 71/400\n",
            "645/645 [==============================] - 1s 1ms/step - loss: 0.3838\n",
            "Epoch 72/400\n",
            "645/645 [==============================] - 1s 1ms/step - loss: 0.3756\n",
            "Epoch 73/400\n",
            "645/645 [==============================] - 1s 1ms/step - loss: 0.3796\n",
            "Epoch 74/400\n",
            "645/645 [==============================] - 1s 1ms/step - loss: 0.3830\n",
            "Epoch 75/400\n",
            "645/645 [==============================] - 1s 1ms/step - loss: 0.3807\n",
            "Epoch 76/400\n",
            "645/645 [==============================] - 1s 1ms/step - loss: 0.3832\n",
            "Epoch 77/400\n",
            "645/645 [==============================] - 1s 1ms/step - loss: 0.3764\n",
            "Epoch 78/400\n",
            "645/645 [==============================] - 1s 1ms/step - loss: 0.3752\n",
            "Epoch 79/400\n",
            "645/645 [==============================] - 1s 1ms/step - loss: 0.3872\n",
            "Epoch 80/400\n",
            "645/645 [==============================] - 1s 1ms/step - loss: 0.3833\n",
            "Epoch 81/400\n",
            "645/645 [==============================] - 1s 1ms/step - loss: 0.3796\n",
            "Epoch 82/400\n",
            "645/645 [==============================] - 1s 1ms/step - loss: 0.3764\n",
            "Epoch 83/400\n",
            "645/645 [==============================] - 1s 1ms/step - loss: 0.3768\n",
            "Epoch 84/400\n",
            "645/645 [==============================] - 1s 1ms/step - loss: 0.3701\n",
            "Epoch 85/400\n",
            "645/645 [==============================] - 1s 1ms/step - loss: 0.3755\n",
            "Epoch 86/400\n",
            "645/645 [==============================] - 1s 1ms/step - loss: 0.3765\n",
            "Epoch 87/400\n",
            "645/645 [==============================] - 1s 1ms/step - loss: 0.3849\n",
            "Epoch 88/400\n",
            "645/645 [==============================] - 1s 1ms/step - loss: 0.3707\n",
            "Epoch 89/400\n",
            "645/645 [==============================] - 1s 1ms/step - loss: 0.3798\n",
            "Epoch 90/400\n",
            "645/645 [==============================] - 1s 1ms/step - loss: 0.3787\n",
            "Epoch 91/400\n",
            "645/645 [==============================] - 1s 1ms/step - loss: 0.3795\n",
            "Epoch 92/400\n",
            "645/645 [==============================] - 1s 1ms/step - loss: 0.3725\n",
            "Epoch 93/400\n",
            "645/645 [==============================] - 1s 1ms/step - loss: 0.3718\n",
            "Epoch 94/400\n",
            "645/645 [==============================] - 1s 1ms/step - loss: 0.3774\n",
            "Epoch 95/400\n",
            "645/645 [==============================] - 1s 970us/step - loss: 0.3712\n",
            "Epoch 96/400\n",
            "645/645 [==============================] - 1s 1ms/step - loss: 0.3791\n",
            "Epoch 97/400\n",
            "645/645 [==============================] - 1s 1ms/step - loss: 0.3835\n",
            "Epoch 98/400\n",
            "645/645 [==============================] - 1s 1ms/step - loss: 0.3777\n",
            "Epoch 99/400\n",
            "645/645 [==============================] - 1s 999us/step - loss: 0.3615\n",
            "Epoch 100/400\n",
            "645/645 [==============================] - 1s 1ms/step - loss: 0.3655\n",
            "Epoch 101/400\n",
            "645/645 [==============================] - 1s 1ms/step - loss: 0.3830\n",
            "Epoch 102/400\n",
            "645/645 [==============================] - 1s 962us/step - loss: 0.3708\n",
            "Epoch 103/400\n",
            "645/645 [==============================] - 1s 1ms/step - loss: 0.3670\n",
            "Epoch 104/400\n",
            "645/645 [==============================] - 1s 1ms/step - loss: 0.3671\n",
            "Epoch 105/400\n",
            "645/645 [==============================] - 1s 994us/step - loss: 0.3634\n",
            "Epoch 106/400\n",
            "645/645 [==============================] - 1s 985us/step - loss: 0.3664\n",
            "Epoch 107/400\n",
            "645/645 [==============================] - 1s 1ms/step - loss: 0.3694\n",
            "Epoch 108/400\n",
            "645/645 [==============================] - 1s 1ms/step - loss: 0.3651\n",
            "Epoch 109/400\n",
            "645/645 [==============================] - 1s 1ms/step - loss: 0.3634\n",
            "Epoch 110/400\n",
            "645/645 [==============================] - 1s 1ms/step - loss: 0.3636\n",
            "Epoch 111/400\n",
            "645/645 [==============================] - 1s 1ms/step - loss: 0.3686\n",
            "Epoch 112/400\n",
            "645/645 [==============================] - 1s 1ms/step - loss: 0.3701\n",
            "Epoch 113/400\n",
            "645/645 [==============================] - 1s 1ms/step - loss: 0.3675\n",
            "Epoch 114/400\n",
            "645/645 [==============================] - 1s 1ms/step - loss: 0.3623\n",
            "Epoch 115/400\n",
            "645/645 [==============================] - 1s 1ms/step - loss: 0.3507\n",
            "Epoch 116/400\n",
            "645/645 [==============================] - 1s 989us/step - loss: 0.3636\n",
            "Epoch 117/400\n",
            "645/645 [==============================] - 1s 1ms/step - loss: 0.3649\n",
            "Epoch 118/400\n",
            "645/645 [==============================] - 1s 1ms/step - loss: 0.3860\n",
            "Epoch 119/400\n",
            "645/645 [==============================] - 1s 987us/step - loss: 0.3568\n",
            "Epoch 120/400\n",
            "645/645 [==============================] - 1s 1ms/step - loss: 0.3622\n",
            "Epoch 121/400\n",
            "645/645 [==============================] - 1s 1ms/step - loss: 0.3711\n",
            "Epoch 122/400\n",
            "645/645 [==============================] - 1s 1ms/step - loss: 0.3640\n",
            "Epoch 123/400\n",
            "645/645 [==============================] - 1s 990us/step - loss: 0.3687\n",
            "Epoch 124/400\n",
            "645/645 [==============================] - 1s 1ms/step - loss: 0.3722\n",
            "Epoch 125/400\n",
            "645/645 [==============================] - 1s 986us/step - loss: 0.3649\n",
            "Epoch 126/400\n",
            "645/645 [==============================] - 1s 1ms/step - loss: 0.3684\n",
            "Epoch 127/400\n",
            "645/645 [==============================] - 1s 1ms/step - loss: 0.3530\n",
            "Epoch 128/400\n",
            "645/645 [==============================] - 1s 1ms/step - loss: 0.3580\n",
            "Epoch 129/400\n",
            "645/645 [==============================] - 1s 1ms/step - loss: 0.3531\n",
            "Epoch 130/400\n",
            "645/645 [==============================] - 1s 1ms/step - loss: 0.3531\n",
            "Epoch 131/400\n",
            "645/645 [==============================] - 1s 1ms/step - loss: 0.3540\n",
            "Epoch 132/400\n",
            "645/645 [==============================] - 1s 999us/step - loss: 0.3585\n",
            "Epoch 133/400\n",
            "645/645 [==============================] - 1s 981us/step - loss: 0.3545\n",
            "Epoch 134/400\n",
            "645/645 [==============================] - 1s 1ms/step - loss: 0.3560\n",
            "Epoch 135/400\n",
            "645/645 [==============================] - 1s 1ms/step - loss: 0.3590\n",
            "Epoch 136/400\n",
            "645/645 [==============================] - 1s 978us/step - loss: 0.3693\n",
            "Epoch 137/400\n",
            "645/645 [==============================] - 1s 1ms/step - loss: 0.3685\n",
            "Epoch 138/400\n",
            "645/645 [==============================] - 1s 1ms/step - loss: 0.3574\n",
            "Epoch 139/400\n",
            "645/645 [==============================] - 1s 1ms/step - loss: 0.3478\n",
            "Epoch 140/400\n",
            "645/645 [==============================] - 1s 976us/step - loss: 0.3588\n",
            "Epoch 141/400\n",
            "645/645 [==============================] - 1s 1ms/step - loss: 0.3522\n",
            "Epoch 142/400\n",
            "645/645 [==============================] - 1s 993us/step - loss: 0.3687\n",
            "Epoch 143/400\n",
            "645/645 [==============================] - 1s 1ms/step - loss: 0.3573\n",
            "Epoch 144/400\n",
            "645/645 [==============================] - 1s 1ms/step - loss: 0.3594\n",
            "Epoch 145/400\n",
            "645/645 [==============================] - 1s 1ms/step - loss: 0.3556\n",
            "Epoch 146/400\n",
            "645/645 [==============================] - 1s 1ms/step - loss: 0.3576\n",
            "Epoch 147/400\n",
            "645/645 [==============================] - 1s 1ms/step - loss: 0.3554\n",
            "Epoch 148/400\n",
            "645/645 [==============================] - 1s 1ms/step - loss: 0.3477\n",
            "Epoch 149/400\n",
            "645/645 [==============================] - 1s 1ms/step - loss: 0.3638\n",
            "Epoch 150/400\n",
            "645/645 [==============================] - 1s 1ms/step - loss: 0.3668\n",
            "Epoch 151/400\n",
            "645/645 [==============================] - 1s 999us/step - loss: 0.3526\n",
            "Epoch 152/400\n",
            "645/645 [==============================] - 1s 1ms/step - loss: 0.3497\n",
            "Epoch 153/400\n",
            "645/645 [==============================] - 1s 1ms/step - loss: 0.3478\n",
            "Epoch 154/400\n",
            "645/645 [==============================] - 1s 1ms/step - loss: 0.3615\n",
            "Epoch 155/400\n",
            "645/645 [==============================] - 1s 1ms/step - loss: 0.3625\n",
            "Epoch 156/400\n",
            "645/645 [==============================] - 1s 1ms/step - loss: 0.3582\n",
            "Epoch 157/400\n",
            "645/645 [==============================] - 1s 1ms/step - loss: 0.3561\n",
            "Epoch 158/400\n",
            "645/645 [==============================] - 1s 1ms/step - loss: 0.3594\n",
            "Epoch 159/400\n",
            "645/645 [==============================] - 1s 1ms/step - loss: 0.3530\n",
            "Epoch 160/400\n",
            "645/645 [==============================] - 1s 1ms/step - loss: 0.3570\n",
            "Epoch 161/400\n",
            "645/645 [==============================] - 1s 1ms/step - loss: 0.3582\n",
            "Epoch 162/400\n",
            "645/645 [==============================] - 1s 1ms/step - loss: 0.3552\n",
            "Epoch 163/400\n",
            "645/645 [==============================] - 1s 1ms/step - loss: 0.3542\n",
            "Epoch 164/400\n",
            "645/645 [==============================] - 1s 1ms/step - loss: 0.3619\n",
            "Epoch 165/400\n",
            "645/645 [==============================] - 1s 1ms/step - loss: 0.3460\n",
            "Epoch 166/400\n",
            "645/645 [==============================] - 1s 1ms/step - loss: 0.3451\n",
            "Epoch 167/400\n",
            "645/645 [==============================] - 1s 1ms/step - loss: 0.3460\n",
            "Epoch 168/400\n",
            "645/645 [==============================] - 1s 1ms/step - loss: 0.3488\n",
            "Epoch 169/400\n",
            "645/645 [==============================] - 1s 1ms/step - loss: 0.3574\n",
            "Epoch 170/400\n",
            "645/645 [==============================] - 1s 1ms/step - loss: 0.3561\n",
            "Epoch 171/400\n",
            "645/645 [==============================] - 1s 1ms/step - loss: 0.3627\n",
            "Epoch 172/400\n",
            "645/645 [==============================] - 1s 1ms/step - loss: 0.3485\n",
            "Epoch 173/400\n",
            "645/645 [==============================] - 1s 996us/step - loss: 0.3553\n",
            "Epoch 174/400\n",
            "645/645 [==============================] - 1s 1ms/step - loss: 0.3473\n",
            "Epoch 175/400\n",
            "645/645 [==============================] - 1s 1ms/step - loss: 0.3488\n",
            "Epoch 176/400\n",
            "645/645 [==============================] - 1s 1ms/step - loss: 0.3518\n",
            "Epoch 177/400\n",
            "645/645 [==============================] - 1s 1ms/step - loss: 0.3652\n",
            "Epoch 178/400\n",
            "645/645 [==============================] - 1s 1ms/step - loss: 0.3501\n",
            "Epoch 179/400\n",
            "645/645 [==============================] - 1s 1ms/step - loss: 0.3474\n",
            "Epoch 180/400\n",
            "645/645 [==============================] - 1s 1ms/step - loss: 0.3540\n",
            "Epoch 181/400\n",
            "645/645 [==============================] - 1s 1ms/step - loss: 0.3485\n",
            "Epoch 182/400\n",
            "645/645 [==============================] - 1s 1ms/step - loss: 0.3502\n",
            "Epoch 183/400\n",
            "645/645 [==============================] - 1s 1ms/step - loss: 0.3656\n",
            "Epoch 184/400\n",
            "645/645 [==============================] - 1s 1ms/step - loss: 0.3537\n",
            "Epoch 185/400\n",
            "645/645 [==============================] - 1s 1ms/step - loss: 0.3570\n",
            "Epoch 186/400\n",
            "645/645 [==============================] - 1s 998us/step - loss: 0.3363\n",
            "Epoch 187/400\n",
            "645/645 [==============================] - 1s 1ms/step - loss: 0.3395\n",
            "Epoch 188/400\n",
            "645/645 [==============================] - 1s 1ms/step - loss: 0.3534\n",
            "Epoch 189/400\n",
            "645/645 [==============================] - 1s 1ms/step - loss: 0.3535\n",
            "Epoch 190/400\n",
            "645/645 [==============================] - 1s 1ms/step - loss: 0.3516\n",
            "Epoch 191/400\n",
            "645/645 [==============================] - 1s 1ms/step - loss: 0.3563\n",
            "Epoch 192/400\n",
            "645/645 [==============================] - 1s 1ms/step - loss: 0.3508\n",
            "Epoch 193/400\n",
            "645/645 [==============================] - 1s 1ms/step - loss: 0.3581\n",
            "Epoch 194/400\n",
            "645/645 [==============================] - 1s 1ms/step - loss: 0.3464\n",
            "Epoch 195/400\n",
            "645/645 [==============================] - 1s 1ms/step - loss: 0.3474\n",
            "Epoch 196/400\n",
            "645/645 [==============================] - 1s 1ms/step - loss: 0.3358\n",
            "Epoch 197/400\n",
            "645/645 [==============================] - 1s 1ms/step - loss: 0.3348\n",
            "Epoch 198/400\n",
            "645/645 [==============================] - 1s 1ms/step - loss: 0.3451\n",
            "Epoch 199/400\n",
            "645/645 [==============================] - 1s 1ms/step - loss: 0.3460\n",
            "Epoch 200/400\n",
            "645/645 [==============================] - 1s 1ms/step - loss: 0.3468\n",
            "Epoch 201/400\n",
            "645/645 [==============================] - 1s 1ms/step - loss: 0.3440\n",
            "Epoch 202/400\n",
            "645/645 [==============================] - 1s 1ms/step - loss: 0.3500\n",
            "Epoch 203/400\n",
            "645/645 [==============================] - 1s 1ms/step - loss: 0.3503\n",
            "Epoch 204/400\n",
            "645/645 [==============================] - 1s 1ms/step - loss: 0.3459\n",
            "Epoch 205/400\n",
            "645/645 [==============================] - 1s 1ms/step - loss: 0.3446\n",
            "Epoch 206/400\n",
            "645/645 [==============================] - 1s 1ms/step - loss: 0.3512\n",
            "Epoch 207/400\n",
            "645/645 [==============================] - 1s 1ms/step - loss: 0.3433\n",
            "Epoch 208/400\n",
            "645/645 [==============================] - 1s 1ms/step - loss: 0.3451\n",
            "Epoch 209/400\n",
            "645/645 [==============================] - 1s 1ms/step - loss: 0.3418\n",
            "Epoch 210/400\n",
            "645/645 [==============================] - 1s 1ms/step - loss: 0.3445\n",
            "Epoch 211/400\n",
            "645/645 [==============================] - 1s 1ms/step - loss: 0.3574\n",
            "Epoch 212/400\n",
            "645/645 [==============================] - 1s 1ms/step - loss: 0.3402\n",
            "Epoch 213/400\n",
            "645/645 [==============================] - 1s 1ms/step - loss: 0.3499\n",
            "Epoch 214/400\n",
            "645/645 [==============================] - 1s 1ms/step - loss: 0.3439\n",
            "Epoch 215/400\n",
            "645/645 [==============================] - 1s 1ms/step - loss: 0.3467\n",
            "Epoch 216/400\n",
            "645/645 [==============================] - 1s 1ms/step - loss: 0.3504\n",
            "Epoch 217/400\n",
            "645/645 [==============================] - 1s 1ms/step - loss: 0.3463\n",
            "Epoch 218/400\n",
            "645/645 [==============================] - 1s 1ms/step - loss: 0.3447\n",
            "Epoch 219/400\n",
            "645/645 [==============================] - 1s 1ms/step - loss: 0.3524\n",
            "Epoch 220/400\n",
            "645/645 [==============================] - 1s 1ms/step - loss: 0.3431\n",
            "Epoch 221/400\n",
            "645/645 [==============================] - 1s 1ms/step - loss: 0.3465\n",
            "Epoch 222/400\n",
            "645/645 [==============================] - 1s 1ms/step - loss: 0.3626\n",
            "Epoch 223/400\n",
            "645/645 [==============================] - 1s 1ms/step - loss: 0.3341\n",
            "Epoch 224/400\n",
            "645/645 [==============================] - 1s 1ms/step - loss: 0.3470\n",
            "Epoch 225/400\n",
            "645/645 [==============================] - 1s 1ms/step - loss: 0.3529\n",
            "Epoch 226/400\n",
            "645/645 [==============================] - 1s 1ms/step - loss: 0.3452\n",
            "Epoch 227/400\n",
            "645/645 [==============================] - 1s 1ms/step - loss: 0.3379\n",
            "Epoch 228/400\n",
            "645/645 [==============================] - 1s 1ms/step - loss: 0.3479\n",
            "Epoch 229/400\n",
            "645/645 [==============================] - 1s 1ms/step - loss: 0.3456\n",
            "Epoch 230/400\n",
            "645/645 [==============================] - 1s 1ms/step - loss: 0.3412\n",
            "Epoch 231/400\n",
            "645/645 [==============================] - 1s 1ms/step - loss: 0.3462\n",
            "Epoch 232/400\n",
            "645/645 [==============================] - 1s 1ms/step - loss: 0.3462\n",
            "Epoch 233/400\n",
            "645/645 [==============================] - 1s 1ms/step - loss: 0.3447\n",
            "Epoch 234/400\n",
            "645/645 [==============================] - 1s 1ms/step - loss: 0.3351\n",
            "Epoch 235/400\n",
            "645/645 [==============================] - 1s 1ms/step - loss: 0.3326\n",
            "Epoch 236/400\n",
            "645/645 [==============================] - 1s 1ms/step - loss: 0.3388\n",
            "Epoch 237/400\n",
            "645/645 [==============================] - 1s 1ms/step - loss: 0.3371\n",
            "Epoch 238/400\n",
            "645/645 [==============================] - 1s 1ms/step - loss: 0.3420\n",
            "Epoch 239/400\n",
            "645/645 [==============================] - 1s 1ms/step - loss: 0.3299\n",
            "Epoch 240/400\n",
            "645/645 [==============================] - 1s 1ms/step - loss: 0.3348\n",
            "Epoch 241/400\n",
            "645/645 [==============================] - 1s 1ms/step - loss: 0.3380\n",
            "Epoch 242/400\n",
            "645/645 [==============================] - 1s 1ms/step - loss: 0.3379\n",
            "Epoch 243/400\n",
            "645/645 [==============================] - 1s 1ms/step - loss: 0.3435\n",
            "Epoch 244/400\n",
            "645/645 [==============================] - 1s 1ms/step - loss: 0.3447\n",
            "Epoch 245/400\n",
            "645/645 [==============================] - 1s 1ms/step - loss: 0.3326\n",
            "Epoch 246/400\n",
            "645/645 [==============================] - 1s 1ms/step - loss: 0.3325\n",
            "Epoch 247/400\n",
            "645/645 [==============================] - 1s 1ms/step - loss: 0.3377\n",
            "Epoch 248/400\n",
            "645/645 [==============================] - 1s 1ms/step - loss: 0.3496\n",
            "Epoch 249/400\n",
            "645/645 [==============================] - 1s 1ms/step - loss: 0.3413\n",
            "Epoch 250/400\n",
            "645/645 [==============================] - 1s 1ms/step - loss: 0.3423\n",
            "Epoch 251/400\n",
            "645/645 [==============================] - 1s 1ms/step - loss: 0.3367\n",
            "Epoch 252/400\n",
            "645/645 [==============================] - 1s 1ms/step - loss: 0.3423\n",
            "Epoch 253/400\n",
            "645/645 [==============================] - 1s 1ms/step - loss: 0.3361\n",
            "Epoch 254/400\n",
            "645/645 [==============================] - 1s 1ms/step - loss: 0.3434\n",
            "Epoch 255/400\n",
            "645/645 [==============================] - 1s 1ms/step - loss: 0.3287\n",
            "Epoch 256/400\n",
            "645/645 [==============================] - 1s 1ms/step - loss: 0.3341\n",
            "Epoch 257/400\n",
            "645/645 [==============================] - 1s 1ms/step - loss: 0.3350\n",
            "Epoch 258/400\n",
            "645/645 [==============================] - 1s 1ms/step - loss: 0.3289\n",
            "Epoch 259/400\n",
            "645/645 [==============================] - 1s 1ms/step - loss: 0.3314\n",
            "Epoch 260/400\n",
            "645/645 [==============================] - 1s 1ms/step - loss: 0.3393\n",
            "Epoch 261/400\n",
            "645/645 [==============================] - 1s 1ms/step - loss: 0.3321\n",
            "Epoch 262/400\n",
            "645/645 [==============================] - 1s 1ms/step - loss: 0.3326\n",
            "Epoch 263/400\n",
            "645/645 [==============================] - 1s 1ms/step - loss: 0.3456\n",
            "Epoch 264/400\n",
            "645/645 [==============================] - 1s 1ms/step - loss: 0.3409\n",
            "Epoch 265/400\n",
            "645/645 [==============================] - 1s 1ms/step - loss: 0.3281\n",
            "Epoch 266/400\n",
            "645/645 [==============================] - 1s 1ms/step - loss: 0.3350\n",
            "Epoch 267/400\n",
            "645/645 [==============================] - 1s 1ms/step - loss: 0.3345\n",
            "Epoch 268/400\n",
            "645/645 [==============================] - 1s 1ms/step - loss: 0.3416\n",
            "Epoch 269/400\n",
            "645/645 [==============================] - 1s 1ms/step - loss: 0.3356\n",
            "Epoch 270/400\n",
            "645/645 [==============================] - 1s 1ms/step - loss: 0.3328\n",
            "Epoch 271/400\n",
            "645/645 [==============================] - 1s 1ms/step - loss: 0.3409\n",
            "Epoch 272/400\n",
            "645/645 [==============================] - 1s 1ms/step - loss: 0.3349\n",
            "Epoch 273/400\n",
            "645/645 [==============================] - 1s 1ms/step - loss: 0.3341\n",
            "Epoch 274/400\n",
            "645/645 [==============================] - 1s 1ms/step - loss: 0.3337\n",
            "Epoch 275/400\n",
            "645/645 [==============================] - 1s 1ms/step - loss: 0.3240\n",
            "Epoch 276/400\n",
            "645/645 [==============================] - 1s 1ms/step - loss: 0.3433\n",
            "Epoch 277/400\n",
            "645/645 [==============================] - 1s 1ms/step - loss: 0.3265\n",
            "Epoch 278/400\n",
            "645/645 [==============================] - 1s 1ms/step - loss: 0.3300\n",
            "Epoch 279/400\n",
            "645/645 [==============================] - 1s 1ms/step - loss: 0.3359\n",
            "Epoch 280/400\n",
            "645/645 [==============================] - 1s 1ms/step - loss: 0.3300\n",
            "Epoch 281/400\n",
            "645/645 [==============================] - 1s 1ms/step - loss: 0.3274\n",
            "Epoch 282/400\n",
            "645/645 [==============================] - 1s 1ms/step - loss: 0.3281\n",
            "Epoch 283/400\n",
            "645/645 [==============================] - 1s 1ms/step - loss: 0.3300\n",
            "Epoch 284/400\n",
            "645/645 [==============================] - 1s 1ms/step - loss: 0.3374\n",
            "Epoch 285/400\n",
            "645/645 [==============================] - 1s 1ms/step - loss: 0.3107\n",
            "Epoch 286/400\n",
            "645/645 [==============================] - 1s 1ms/step - loss: 0.3273\n",
            "Epoch 287/400\n",
            "645/645 [==============================] - 1s 1ms/step - loss: 0.3333\n",
            "Epoch 288/400\n",
            "645/645 [==============================] - 1s 1ms/step - loss: 0.3422\n",
            "Epoch 289/400\n",
            "645/645 [==============================] - 1s 1ms/step - loss: 0.3209\n",
            "Epoch 290/400\n",
            "645/645 [==============================] - 1s 1ms/step - loss: 0.3194\n",
            "Epoch 291/400\n",
            "645/645 [==============================] - 1s 1ms/step - loss: 0.3179\n",
            "Epoch 292/400\n",
            "645/645 [==============================] - 1s 1ms/step - loss: 0.3184\n",
            "Epoch 293/400\n",
            "645/645 [==============================] - 1s 1ms/step - loss: 0.3275\n",
            "Epoch 294/400\n",
            "645/645 [==============================] - 1s 1ms/step - loss: 0.3329\n",
            "Epoch 295/400\n",
            "645/645 [==============================] - 1s 1ms/step - loss: 0.3244\n",
            "Epoch 296/400\n",
            "645/645 [==============================] - 1s 1ms/step - loss: 0.3319\n",
            "Epoch 297/400\n",
            "645/645 [==============================] - 1s 1ms/step - loss: 0.3322\n",
            "Epoch 298/400\n",
            "645/645 [==============================] - 1s 1ms/step - loss: 0.3237\n",
            "Epoch 299/400\n",
            "645/645 [==============================] - 1s 1ms/step - loss: 0.3248\n",
            "Epoch 300/400\n",
            "645/645 [==============================] - 1s 1ms/step - loss: 0.3266\n",
            "Epoch 301/400\n",
            "645/645 [==============================] - 1s 1ms/step - loss: 0.3275\n",
            "Epoch 302/400\n",
            "645/645 [==============================] - 1s 1ms/step - loss: 0.3216\n",
            "Epoch 303/400\n",
            "645/645 [==============================] - 1s 1ms/step - loss: 0.3294\n",
            "Epoch 304/400\n",
            "645/645 [==============================] - 1s 1ms/step - loss: 0.3279\n",
            "Epoch 305/400\n",
            "645/645 [==============================] - 1s 1ms/step - loss: 0.3206\n",
            "Epoch 306/400\n",
            "645/645 [==============================] - 1s 1ms/step - loss: 0.3267\n",
            "Epoch 307/400\n",
            "645/645 [==============================] - 1s 1ms/step - loss: 0.3309\n",
            "Epoch 308/400\n",
            "645/645 [==============================] - 1s 1ms/step - loss: 0.3170\n",
            "Epoch 309/400\n",
            "645/645 [==============================] - 1s 1ms/step - loss: 0.3243\n",
            "Epoch 310/400\n",
            "645/645 [==============================] - 1s 1ms/step - loss: 0.3362\n",
            "Epoch 311/400\n",
            "645/645 [==============================] - 1s 1ms/step - loss: 0.3163\n",
            "Epoch 312/400\n",
            "645/645 [==============================] - 1s 1ms/step - loss: 0.3273\n",
            "Epoch 313/400\n",
            "645/645 [==============================] - 1s 1ms/step - loss: 0.3300\n",
            "Epoch 314/400\n",
            "645/645 [==============================] - 1s 1ms/step - loss: 0.3208\n",
            "Epoch 315/400\n",
            "645/645 [==============================] - 1s 1ms/step - loss: 0.3269\n",
            "Epoch 316/400\n",
            "645/645 [==============================] - 1s 1ms/step - loss: 0.3091\n",
            "Epoch 317/400\n",
            "645/645 [==============================] - 1s 1ms/step - loss: 0.3279\n",
            "Epoch 318/400\n",
            "645/645 [==============================] - 1s 1ms/step - loss: 0.3165\n",
            "Epoch 319/400\n",
            "645/645 [==============================] - 1s 1ms/step - loss: 0.3194\n",
            "Epoch 320/400\n",
            "645/645 [==============================] - 1s 1ms/step - loss: 0.3255\n",
            "Epoch 321/400\n",
            "645/645 [==============================] - 1s 1ms/step - loss: 0.3140\n",
            "Epoch 322/400\n",
            "645/645 [==============================] - 1s 1ms/step - loss: 0.3187\n",
            "Epoch 323/400\n",
            "645/645 [==============================] - 1s 1ms/step - loss: 0.3172\n",
            "Epoch 324/400\n",
            "645/645 [==============================] - 1s 1ms/step - loss: 0.3254\n",
            "Epoch 325/400\n",
            "645/645 [==============================] - 1s 1ms/step - loss: 0.3059\n",
            "Epoch 326/400\n",
            "645/645 [==============================] - 1s 1ms/step - loss: 0.3108\n",
            "Epoch 327/400\n",
            "645/645 [==============================] - 1s 1ms/step - loss: 0.3208\n",
            "Epoch 328/400\n",
            "645/645 [==============================] - 1s 1ms/step - loss: 0.3103\n",
            "Epoch 329/400\n",
            "645/645 [==============================] - 1s 1ms/step - loss: 0.3162\n",
            "Epoch 330/400\n",
            "645/645 [==============================] - 1s 1ms/step - loss: 0.3200\n",
            "Epoch 331/400\n",
            "645/645 [==============================] - 1s 1ms/step - loss: 0.3064\n",
            "Epoch 332/400\n",
            "645/645 [==============================] - 1s 1ms/step - loss: 0.3376\n",
            "Epoch 333/400\n",
            "645/645 [==============================] - 1s 1ms/step - loss: 0.3263\n",
            "Epoch 334/400\n",
            "645/645 [==============================] - 1s 1ms/step - loss: 0.3127\n",
            "Epoch 335/400\n",
            "645/645 [==============================] - 1s 1ms/step - loss: 0.3241\n",
            "Epoch 336/400\n",
            "645/645 [==============================] - 1s 1ms/step - loss: 0.3270\n",
            "Epoch 337/400\n",
            "645/645 [==============================] - 1s 1ms/step - loss: 0.3152\n",
            "Epoch 338/400\n",
            "645/645 [==============================] - 1s 1ms/step - loss: 0.3093\n",
            "Epoch 339/400\n",
            "645/645 [==============================] - 1s 1ms/step - loss: 0.3247\n",
            "Epoch 340/400\n",
            "645/645 [==============================] - 1s 1ms/step - loss: 0.3167\n",
            "Epoch 341/400\n",
            "645/645 [==============================] - 1s 1ms/step - loss: 0.3199\n",
            "Epoch 342/400\n",
            "645/645 [==============================] - 1s 1ms/step - loss: 0.3173\n",
            "Epoch 343/400\n",
            "645/645 [==============================] - 1s 1ms/step - loss: 0.3229\n",
            "Epoch 344/400\n",
            "645/645 [==============================] - 1s 1ms/step - loss: 0.3140\n",
            "Epoch 345/400\n",
            "645/645 [==============================] - 1s 1ms/step - loss: 0.3206\n",
            "Epoch 346/400\n",
            "645/645 [==============================] - 1s 1ms/step - loss: 0.3217\n",
            "Epoch 347/400\n",
            "645/645 [==============================] - 1s 1ms/step - loss: 0.3240\n",
            "Epoch 348/400\n",
            "645/645 [==============================] - 1s 1ms/step - loss: 0.3303\n",
            "Epoch 349/400\n",
            "645/645 [==============================] - 1s 1ms/step - loss: 0.3227\n",
            "Epoch 350/400\n",
            "645/645 [==============================] - 1s 1ms/step - loss: 0.3124\n",
            "Epoch 351/400\n",
            "645/645 [==============================] - 1s 1ms/step - loss: 0.2996\n",
            "Epoch 352/400\n",
            "645/645 [==============================] - 1s 1ms/step - loss: 0.3257\n",
            "Epoch 353/400\n",
            "645/645 [==============================] - 1s 1ms/step - loss: 0.3146\n",
            "Epoch 354/400\n",
            "645/645 [==============================] - 1s 1ms/step - loss: 0.3170\n",
            "Epoch 355/400\n",
            "645/645 [==============================] - 1s 1ms/step - loss: 0.3146\n",
            "Epoch 356/400\n",
            "645/645 [==============================] - 1s 1ms/step - loss: 0.3194\n",
            "Epoch 357/400\n",
            "645/645 [==============================] - 1s 1ms/step - loss: 0.3184\n",
            "Epoch 358/400\n",
            "645/645 [==============================] - 1s 1ms/step - loss: 0.3235\n",
            "Epoch 359/400\n",
            "645/645 [==============================] - 1s 1ms/step - loss: 0.3150\n",
            "Epoch 360/400\n",
            "645/645 [==============================] - 1s 1ms/step - loss: 0.3267\n",
            "Epoch 361/400\n",
            "645/645 [==============================] - 1s 1ms/step - loss: 0.3198\n",
            "Epoch 362/400\n",
            "645/645 [==============================] - 1s 1ms/step - loss: 0.3067\n",
            "Epoch 363/400\n",
            "645/645 [==============================] - 1s 1ms/step - loss: 0.3272\n",
            "Epoch 364/400\n",
            "645/645 [==============================] - 1s 1ms/step - loss: 0.3060\n",
            "Epoch 365/400\n",
            "645/645 [==============================] - 1s 1ms/step - loss: 0.3137\n",
            "Epoch 366/400\n",
            "645/645 [==============================] - 1s 1ms/step - loss: 0.3148\n",
            "Epoch 367/400\n",
            "645/645 [==============================] - 1s 1ms/step - loss: 0.3188\n",
            "Epoch 368/400\n",
            "645/645 [==============================] - 1s 1ms/step - loss: 0.3223\n",
            "Epoch 369/400\n",
            "645/645 [==============================] - 1s 1ms/step - loss: 0.3239\n",
            "Epoch 370/400\n",
            "645/645 [==============================] - 1s 1ms/step - loss: 0.3125\n",
            "Epoch 371/400\n",
            "645/645 [==============================] - 1s 1ms/step - loss: 0.3123\n",
            "Epoch 372/400\n",
            "645/645 [==============================] - 1s 1ms/step - loss: 0.3183\n",
            "Epoch 373/400\n",
            "645/645 [==============================] - 1s 1ms/step - loss: 0.3200\n",
            "Epoch 374/400\n",
            "645/645 [==============================] - 1s 1ms/step - loss: 0.3125\n",
            "Epoch 375/400\n",
            "645/645 [==============================] - 1s 1ms/step - loss: 0.3130\n",
            "Epoch 376/400\n",
            "645/645 [==============================] - 1s 1ms/step - loss: 0.3092\n",
            "Epoch 377/400\n",
            "645/645 [==============================] - 1s 1ms/step - loss: 0.3158\n",
            "Epoch 378/400\n",
            "645/645 [==============================] - 1s 1ms/step - loss: 0.3129\n",
            "Epoch 379/400\n",
            "645/645 [==============================] - 1s 1ms/step - loss: 0.3115\n",
            "Epoch 380/400\n",
            "645/645 [==============================] - 1s 1ms/step - loss: 0.3164\n",
            "Epoch 381/400\n",
            "645/645 [==============================] - 1s 1ms/step - loss: 0.3180\n",
            "Epoch 382/400\n",
            "645/645 [==============================] - 1s 1ms/step - loss: 0.3291\n",
            "Epoch 383/400\n",
            "645/645 [==============================] - 1s 1ms/step - loss: 0.3077\n",
            "Epoch 384/400\n",
            "645/645 [==============================] - 1s 1ms/step - loss: 0.3128\n",
            "Epoch 385/400\n",
            "645/645 [==============================] - 1s 1ms/step - loss: 0.3112\n",
            "Epoch 386/400\n",
            "645/645 [==============================] - 1s 1ms/step - loss: 0.3128\n",
            "Epoch 387/400\n",
            "645/645 [==============================] - 1s 1ms/step - loss: 0.3044\n",
            "Epoch 388/400\n",
            "645/645 [==============================] - 1s 1ms/step - loss: 0.3139\n",
            "Epoch 389/400\n",
            "645/645 [==============================] - 1s 1ms/step - loss: 0.3157\n",
            "Epoch 390/400\n",
            "645/645 [==============================] - 1s 1ms/step - loss: 0.3151\n",
            "Epoch 391/400\n",
            "645/645 [==============================] - 1s 1ms/step - loss: 0.3197\n",
            "Epoch 392/400\n",
            "645/645 [==============================] - 1s 1ms/step - loss: 0.3177\n",
            "Epoch 393/400\n",
            "645/645 [==============================] - 1s 1ms/step - loss: 0.2974\n",
            "Epoch 394/400\n",
            "645/645 [==============================] - 1s 1ms/step - loss: 0.3213\n",
            "Epoch 395/400\n",
            "645/645 [==============================] - 1s 1ms/step - loss: 0.3160\n",
            "Epoch 396/400\n",
            "645/645 [==============================] - 1s 1ms/step - loss: 0.3149\n",
            "Epoch 397/400\n",
            "645/645 [==============================] - 1s 1ms/step - loss: 0.3153\n",
            "Epoch 398/400\n",
            "645/645 [==============================] - 1s 1ms/step - loss: 0.3092\n",
            "Epoch 399/400\n",
            "645/645 [==============================] - 1s 1ms/step - loss: 0.3067\n",
            "Epoch 400/400\n",
            "645/645 [==============================] - 1s 1ms/step - loss: 0.3084\n"
          ],
          "name": "stdout"
        },
        {
          "output_type": "execute_result",
          "data": {
            "text/plain": [
              "<tensorflow.python.keras.callbacks.History at 0x7f21645c70d0>"
            ]
          },
          "metadata": {
            "tags": []
          },
          "execution_count": 38
        }
      ]
    },
    {
      "cell_type": "code",
      "metadata": {
        "id": "-WhRo9b7Azhd"
      },
      "source": [
        "predictions = model.predict(X)"
      ],
      "execution_count": null,
      "outputs": []
    },
    {
      "cell_type": "code",
      "metadata": {
        "colab": {
          "base_uri": "https://localhost:8080/"
        },
        "id": "XN1PamQcoHrR",
        "outputId": "491edca4-d205-4539-cd12-3ecfe8b8ae35"
      },
      "source": [
        "# R^2 error\n",
        "r2_score(y,predictions)"
      ],
      "execution_count": null,
      "outputs": [
        {
          "output_type": "execute_result",
          "data": {
            "text/plain": [
              "0.76524377770531"
            ]
          },
          "metadata": {
            "tags": []
          },
          "execution_count": 40
        }
      ]
    },
    {
      "cell_type": "code",
      "metadata": {
        "colab": {
          "base_uri": "https://localhost:8080/"
        },
        "id": "K8LVfUVgoNtO",
        "outputId": "b8eba40f-bda1-4e19-8999-7579de04708e"
      },
      "source": [
        "# Mean squared error\n",
        "mse = mean_squared_error(y,predictions)\n",
        "mse"
      ],
      "execution_count": null,
      "outputs": [
        {
          "output_type": "execute_result",
          "data": {
            "text/plain": [
              "0.312589718242566"
            ]
          },
          "metadata": {
            "tags": []
          },
          "execution_count": 41
        }
      ]
    },
    {
      "cell_type": "code",
      "metadata": {
        "colab": {
          "base_uri": "https://localhost:8080/"
        },
        "id": "ItL2eWWgBvYi",
        "outputId": "282255b6-f46a-4865-acc0-e9431caf66a2"
      },
      "source": [
        "# Root mean squared error\n",
        "np.sqrt(mse)"
      ],
      "execution_count": null,
      "outputs": [
        {
          "output_type": "execute_result",
          "data": {
            "text/plain": [
              "0.5590972350517984"
            ]
          },
          "metadata": {
            "tags": []
          },
          "execution_count": 42
        }
      ]
    },
    {
      "cell_type": "code",
      "metadata": {
        "colab": {
          "base_uri": "https://localhost:8080/"
        },
        "id": "oDLaUpEaBy6u",
        "outputId": "1b68d7ad-2a4c-4f1d-d628-e27f1f4b8e88"
      },
      "source": [
        "# Mean absolute error\n",
        "mean_absolute_error(y,predictions)"
      ],
      "execution_count": null,
      "outputs": [
        {
          "output_type": "execute_result",
          "data": {
            "text/plain": [
              "0.3840703323795204"
            ]
          },
          "metadata": {
            "tags": []
          },
          "execution_count": 43
        }
      ]
    },
    {
      "cell_type": "code",
      "metadata": {
        "colab": {
          "base_uri": "https://localhost:8080/"
        },
        "id": "gNsTPlZjB2-v",
        "outputId": "9132f8cc-568c-4f4e-d1a2-09ac1874f6d3"
      },
      "source": [
        "# Explained variance score: Tells you how much variance is being explained by model\n",
        "explained_variance_score(y,predictions)"
      ],
      "execution_count": null,
      "outputs": [
        {
          "output_type": "execute_result",
          "data": {
            "text/plain": [
              "0.7654070739008606"
            ]
          },
          "metadata": {
            "tags": []
          },
          "execution_count": 44
        }
      ]
    },
    {
      "cell_type": "code",
      "metadata": {
        "id": "WYrpMfDQB59e"
      },
      "source": [
        "my_index = 0\n",
        "single_house = cali.drop('SalePrice',axis=1).iloc[my_index]"
      ],
      "execution_count": null,
      "outputs": []
    },
    {
      "cell_type": "code",
      "metadata": {
        "id": "oRGeN0DUCBwl"
      },
      "source": [
        "single_house = scaler.transform(single_house.values.reshape(-1,8))"
      ],
      "execution_count": null,
      "outputs": []
    },
    {
      "cell_type": "code",
      "metadata": {
        "colab": {
          "base_uri": "https://localhost:8080/"
        },
        "id": "WYDPsWCxCEE-",
        "outputId": "44065260-c489-41c7-b517-a701b83904e3"
      },
      "source": [
        "model.predict(single_house)[0][0]"
      ],
      "execution_count": null,
      "outputs": [
        {
          "output_type": "execute_result",
          "data": {
            "text/plain": [
              "4.161402"
            ]
          },
          "metadata": {
            "tags": []
          },
          "execution_count": 71
        }
      ]
    },
    {
      "cell_type": "code",
      "metadata": {
        "colab": {
          "base_uri": "https://localhost:8080/"
        },
        "id": "_H_yu_gSCHqU",
        "outputId": "c1485048-c2e9-48bf-ac8d-5f5ad5af69d4"
      },
      "source": [
        "cali['SalePrice'][my_index]"
      ],
      "execution_count": null,
      "outputs": [
        {
          "output_type": "execute_result",
          "data": {
            "text/plain": [
              "2.734"
            ]
          },
          "metadata": {
            "tags": []
          },
          "execution_count": 67
        }
      ]
    },
    {
      "cell_type": "code",
      "metadata": {
        "colab": {
          "base_uri": "https://localhost:8080/"
        },
        "id": "Hw3Hy97gCJbj",
        "outputId": "4e041619-f5fe-4e4a-a6d4-eddc9419b9cd"
      },
      "source": [
        "print('Off by : $',round(abs((model.predict(single_house)[0][0]*100000) - (cali['SalePrice'][my_index]*100000)),2))"
      ],
      "execution_count": null,
      "outputs": [
        {
          "output_type": "stream",
          "text": [
            "Off by : $ 22055.27\n"
          ],
          "name": "stdout"
        }
      ]
    },
    {
      "cell_type": "code",
      "metadata": {
        "colab": {
          "base_uri": "https://localhost:8080/"
        },
        "id": "NsNEKnLPCLec",
        "outputId": "52482fc2-70ff-4a28-b72b-a38e5deaae53"
      },
      "source": [
        "model.save('/content/drive/My Drive/DATA/cali_model_v1.h5')\n",
        "print('Saved')"
      ],
      "execution_count": null,
      "outputs": [
        {
          "output_type": "stream",
          "text": [
            "Saved\n"
          ],
          "name": "stdout"
        }
      ]
    },
    {
      "cell_type": "code",
      "metadata": {
        "id": "whrHfAujCRr7",
        "colab": {
          "base_uri": "https://localhost:8080/"
        },
        "outputId": "2cbc2f3d-6606-45f9-d14d-a362ef2b794b"
      },
      "source": [
        "import joblib\n",
        "joblib.dump(scaler,'/content/drive/My Drive/DATA/cali_model_v1.pkl')"
      ],
      "execution_count": null,
      "outputs": [
        {
          "output_type": "execute_result",
          "data": {
            "text/plain": [
              "['/content/drive/My Drive/DATA/cali_model_v1.pkl']"
            ]
          },
          "metadata": {
            "tags": []
          },
          "execution_count": 52
        }
      ]
    },
    {
      "cell_type": "code",
      "metadata": {
        "id": "eoSg3kOm8rdq"
      },
      "source": [
        ""
      ],
      "execution_count": null,
      "outputs": []
    }
  ]
}